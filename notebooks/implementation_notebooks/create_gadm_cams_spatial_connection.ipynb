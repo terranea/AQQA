{
 "cells": [
  {
   "cell_type": "code",
   "execution_count": 1,
   "id": "2bc7edca-2648-45e2-8053-ee6b2d15a28f",
   "metadata": {},
   "outputs": [],
   "source": [
    "import pandas as pd\n",
    "import fiona\n",
    "from rdflib import Graph, Namespace, URIRef, XSD, Literal\n",
    "from shapely.wkt import loads"
   ]
  },
  {
   "cell_type": "code",
   "execution_count": null,
   "id": "d7ff76dd-b5fa-4247-b897-eb46ef2ff39a",
   "metadata": {},
   "outputs": [],
   "source": []
  },
  {
   "cell_type": "markdown",
   "id": "ba9255e3-e0be-4d26-ab7f-2efc17cdc27d",
   "metadata": {},
   "source": [
    "### Parse GADM data and store relevant data in dictionary"
   ]
  },
  {
   "cell_type": "code",
   "execution_count": 2,
   "id": "6fe6f2d0-3492-48d9-aa50-b74212dc9899",
   "metadata": {},
   "outputs": [],
   "source": [
    "# specify path to datasets\n",
    "path_to_gadm_aut = \"/mnt/data/GADM/RDF/gadm_AUT_RDF_population.ttl\"\n",
    "path_to_gadm_deu = \"/mnt/data/GADM/RDF/gadm_DEU_RDF_population.ttl\""
   ]
  },
  {
   "cell_type": "code",
   "execution_count": 3,
   "id": "cfe29436-7dd0-4fc6-9d37-a2f68c9e590d",
   "metadata": {},
   "outputs": [
    {
     "data": {
      "text/plain": [
       "<Graph identifier=N7047c3a0414640b7a892afc1f17a68c1 (<class 'rdflib.graph.Graph'>)>"
      ]
     },
     "execution_count": 3,
     "metadata": {},
     "output_type": "execute_result"
    }
   ],
   "source": [
    "# create graph and bind namesspaces to it\n",
    "gadm = Namespace(\"http://example.com/ontologies/gadm#\")\n",
    "graph = Graph()\n",
    "graph.bind(\"gadm\", gadm)\n",
    "graph.parse(path_to_gadm_aut, format='ttl')\n",
    "graph.parse(path_to_gadm_deu, format='ttl')"
   ]
  },
  {
   "cell_type": "code",
   "execution_count": 4,
   "id": "e8b9d115-8f49-498b-9f6d-231560004b53",
   "metadata": {},
   "outputs": [],
   "source": [
    "query = \"\"\"\n",
    "PREFIX geo: <http://www.opengis.net/ont/geosparql#> \n",
    "\n",
    "SELECT ?gadm_ent ?geom\n",
    "WHERE {\n",
    "    ?gadm_ent a gadm:AdministrativeUnit ;\n",
    "        geo:hasGeometry ?geom_ent .\n",
    "    ?geom_ent geo:asWKT ?geom .\n",
    "}\n",
    "\"\"\"\n",
    "\n",
    "ref_grid_ls = []\n",
    "\n",
    "# Execute the query and iterate over the results\n",
    "for row in graph.query(query):\n",
    "    gadm_ent, geom = row\n",
    "    geom_wkt = loads(geom)\n",
    "    cell_dict = {}\n",
    "    cell_dict[\"gadm_ent\"] = gadm_ent\n",
    "    cell_dict[\"gadm_geom\"] = geom_wkt\n",
    "    ref_grid_ls.append(cell_dict)"
   ]
  },
  {
   "cell_type": "code",
   "execution_count": null,
   "id": "5adfb3f5-c1d1-4b04-9751-281d5e144422",
   "metadata": {},
   "outputs": [],
   "source": []
  },
  {
   "cell_type": "markdown",
   "id": "0ccb72d0-d1be-439b-9a91-1c0bc1369dfc",
   "metadata": {},
   "source": [
    "### Enrich CAMS ref raster with GADM intersection information"
   ]
  },
  {
   "cell_type": "code",
   "execution_count": 10,
   "id": "95679aff-36d3-4114-8c14-2d326b20bd19",
   "metadata": {},
   "outputs": [
    {
     "data": {
      "text/plain": [
       "<Graph identifier=N5fadb5a422b94a2e94ea783eae53751d (<class 'rdflib.graph.Graph'>)>"
      ]
     },
     "execution_count": 10,
     "metadata": {},
     "output_type": "execute_result"
    }
   ],
   "source": [
    "path_to_cams_ref_raster_graph = \"/mnt/data/CAMS/RDF/CAMS_reference_grid.ttl\"\n",
    "\n",
    "# create graph and bind namesspaces to it\n",
    "aqqa = Namespace(\"http://example.com/ontologies/aqqa#\")\n",
    "\n",
    "graph = Graph()\n",
    "graph.bind(\"aqqa\", aqqa)\n",
    "\n",
    "graph.parse(path_to_cams_ref_raster_graph, format='ttl')"
   ]
  },
  {
   "cell_type": "code",
   "execution_count": 11,
   "id": "7bdb64c9-6ac8-41e9-9be4-63b69eea59f2",
   "metadata": {},
   "outputs": [],
   "source": [
    "# iterate over all cell entities \n",
    "query = \"\"\"\n",
    "SELECT ?s ?geom\n",
    "WHERE {\n",
    "    ?s a sosa:FeatureOfInterest ;\n",
    "       geo:hasGeometry ?geom_cell_ent .\n",
    "    ?geom_cell_ent geo:asWKT ?geom .\n",
    "}\n",
    "\"\"\"\n",
    "\n",
    "# Execute the query and iterate over the results\n",
    "for i, row in enumerate(graph.query(query)):\n",
    "    foi_ent, geom = row\n",
    "    target_geom = loads(geom)\n",
    "\n",
    "    \n",
    "    # Iterate through the list of dictionaries\n",
    "    for item in ref_grid_ls:\n",
    "        gadm_uri = item[\"gadm_ent\"]\n",
    "        gadm_geom = item[\"gadm_geom\"]\n",
    "\n",
    "    \n",
    "        # Check if the cell_geom intersects with the target_geom\n",
    "        if target_geom.intersects(gadm_geom):\n",
    "            graph.add((foi_ent, URIRef(\"http://www.opengis.net/ont/geosparql#intersects\"), gadm_uri)) \n",
    "            #print(foi_ent, URIRef(\"http://www.opengis.net/ont/geosparql#intersects\"), gadm_uri)\n"
   ]
  },
  {
   "cell_type": "code",
   "execution_count": 12,
   "id": "6241803f-d55c-4658-898c-1fc6a3022b54",
   "metadata": {},
   "outputs": [
    {
     "data": {
      "text/plain": [
       "<Graph identifier=N5fadb5a422b94a2e94ea783eae53751d (<class 'rdflib.graph.Graph'>)>"
      ]
     },
     "execution_count": 12,
     "metadata": {},
     "output_type": "execute_result"
    }
   ],
   "source": [
    "graph.serialize(destination=\"/mnt/data/CAMS/RDF/CAMS_reference_grid_gadm_connections.ttl\", format=\"turtle\")"
   ]
  },
  {
   "cell_type": "code",
   "execution_count": null,
   "id": "aa4ab8a4-693f-4aeb-90e8-a48fd4d91026",
   "metadata": {},
   "outputs": [],
   "source": []
  }
 ],
 "metadata": {
  "kernelspec": {
   "display_name": "aqqa",
   "language": "python",
   "name": "aqqa"
  },
  "language_info": {
   "codemirror_mode": {
    "name": "ipython",
    "version": 3
   },
   "file_extension": ".py",
   "mimetype": "text/x-python",
   "name": "python",
   "nbconvert_exporter": "python",
   "pygments_lexer": "ipython3",
   "version": "3.8.17"
  }
 },
 "nbformat": 4,
 "nbformat_minor": 5
}
