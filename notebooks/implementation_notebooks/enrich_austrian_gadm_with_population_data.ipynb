{
 "cells": [
  {
   "cell_type": "code",
   "execution_count": 7,
   "id": "a4b90172-7825-4e54-999e-beff3d0b910c",
   "metadata": {},
   "outputs": [],
   "source": [
    "import pandas as pd\n",
    "import fiona\n",
    "from rdflib import Graph, Namespace, URIRef, XSD, Literal"
   ]
  },
  {
   "attachments": {},
   "cell_type": "markdown",
   "id": "b69c0c8e-ddda-4be2-9b2f-75410c3877c8",
   "metadata": {},
   "source": [
    "Dataset of population of Austrian municipalities: \n",
    "\n",
    "https://www.statistik.at/statistiken/bevoelkerung-und-soziales/bevoelkerung/bevoelkerungsstand/bevoelkerung-zu-jahres-/-quartalsanfang"
   ]
  },
  {
   "cell_type": "code",
   "execution_count": 8,
   "id": "ea965014-7d83-4df1-ba91-c2577d35a829",
   "metadata": {},
   "outputs": [],
   "source": [
    "# import population data Austria\n",
    "population_data = pd.read_csv(\"/mnt/data/Population/bevölkerung_gemeinden_österreich.csv\", skiprows=1, delimiter=\";\", encoding=\"utf-8\")"
   ]
  },
  {
   "cell_type": "code",
   "execution_count": 9,
   "id": "96d8d270-37ff-49c5-9c25-3839074f10f7",
   "metadata": {},
   "outputs": [],
   "source": [
    "population_data.rename(columns={\"Unnamed: 1\": \"Gemeindename\"}, inplace=True)"
   ]
  },
  {
   "cell_type": "code",
   "execution_count": 10,
   "id": "f56116e5-2a93-4c42-ad5a-62e71473f6de",
   "metadata": {},
   "outputs": [],
   "source": [
    "year_of_interest = \"2021\"\n",
    "population_select = population_data.loc[:, [\"Gemeindename\", year_of_interest]]\n",
    "population_select[year_of_interest] = population_select[year_of_interest].apply(lambda x: x.replace(\" \", \"\"))\n",
    "population_select[year_of_interest] = population_select[year_of_interest].apply(pd.to_numeric)"
   ]
  },
  {
   "cell_type": "code",
   "execution_count": 11,
   "id": "f399523c-cf5c-47f8-b1da-b0f9f2770b8b",
   "metadata": {},
   "outputs": [
    {
     "data": {
      "text/html": [
       "<div>\n",
       "<style scoped>\n",
       "    .dataframe tbody tr th:only-of-type {\n",
       "        vertical-align: middle;\n",
       "    }\n",
       "\n",
       "    .dataframe tbody tr th {\n",
       "        vertical-align: top;\n",
       "    }\n",
       "\n",
       "    .dataframe thead th {\n",
       "        text-align: right;\n",
       "    }\n",
       "</style>\n",
       "<table border=\"1\" class=\"dataframe\">\n",
       "  <thead>\n",
       "    <tr style=\"text-align: right;\">\n",
       "      <th></th>\n",
       "      <th>Gemeindename</th>\n",
       "      <th>2021</th>\n",
       "    </tr>\n",
       "  </thead>\n",
       "  <tbody>\n",
       "    <tr>\n",
       "      <th>0</th>\n",
       "      <td>ÖSTERREICH</td>\n",
       "      <td>8932664</td>\n",
       "    </tr>\n",
       "    <tr>\n",
       "      <th>1</th>\n",
       "      <td>Eisenstadt</td>\n",
       "      <td>14895</td>\n",
       "    </tr>\n",
       "    <tr>\n",
       "      <th>2</th>\n",
       "      <td>Rust</td>\n",
       "      <td>2000</td>\n",
       "    </tr>\n",
       "    <tr>\n",
       "      <th>3</th>\n",
       "      <td>Breitenbrunn am Neusiedler See</td>\n",
       "      <td>1883</td>\n",
       "    </tr>\n",
       "    <tr>\n",
       "      <th>4</th>\n",
       "      <td>Donnerskirchen</td>\n",
       "      <td>1841</td>\n",
       "    </tr>\n",
       "  </tbody>\n",
       "</table>\n",
       "</div>"
      ],
      "text/plain": [
       "                     Gemeindename     2021\n",
       "0                      ÖSTERREICH  8932664\n",
       "1                      Eisenstadt    14895\n",
       "2                            Rust     2000\n",
       "3  Breitenbrunn am Neusiedler See     1883\n",
       "4                  Donnerskirchen     1841"
      ]
     },
     "execution_count": 11,
     "metadata": {},
     "output_type": "execute_result"
    }
   ],
   "source": [
    "population_select.head()"
   ]
  },
  {
   "cell_type": "code",
   "execution_count": null,
   "id": "25fa964e-402d-400c-9a07-8b9f7606f9eb",
   "metadata": {},
   "outputs": [],
   "source": []
  },
  {
   "cell_type": "code",
   "execution_count": 12,
   "id": "d3329cfc-a378-44cb-a69a-d6591401f44c",
   "metadata": {},
   "outputs": [
    {
     "data": {
      "text/plain": [
       "<Graph identifier=N355c1ec265ea4e36a202e7f538683794 (<class 'rdflib.graph.Graph'>)>"
      ]
     },
     "execution_count": 12,
     "metadata": {},
     "output_type": "execute_result"
    }
   ],
   "source": [
    "# load gadm dataset \n",
    "path_to_gadm_graph = \"/mnt/data/GADM/RDF/gadm_AUT_RDF.ttl\"\n",
    "\n",
    "gadm = Namespace(\"http://example.com/ontologies/gadm#\")\n",
    "\n",
    "graph = Graph()\n",
    "graph.bind(\"gadm\", gadm)\n",
    "\n",
    "graph.parse(path_to_gadm_graph, format='ttl')"
   ]
  },
  {
   "cell_type": "code",
   "execution_count": 13,
   "id": "0da2c9b3-22fc-4529-9eb0-dec33ee25021",
   "metadata": {},
   "outputs": [],
   "source": [
    "ent_hasPop = URIRef(gadm[\"hasPopulation2021\"])"
   ]
  },
  {
   "cell_type": "code",
   "execution_count": 14,
   "id": "557b1e48-4efd-4c5f-920c-cb626c383a88",
   "metadata": {},
   "outputs": [],
   "source": [
    "query = \"\"\"\n",
    "SELECT ?subject ?name\n",
    "WHERE {\n",
    "  ?subject gadm:hasNationalLevel 3 ;\n",
    "           gadm:hasName ?name .\n",
    "}\n",
    "\"\"\"\n",
    "\n",
    "# Execute the query and iterate over the results\n",
    "for row in graph.query(query):\n",
    "    admin_ent, name = row\n",
    "    try:\n",
    "        pop = population_select[population_select.Gemeindename == name.strip()][\"2021\"].values[0]\n",
    "        graph.add((admin_ent, ent_hasPop, Literal(pop, datatype=XSD.integer))) \n",
    "    except:\n",
    "        pass"
   ]
  },
  {
   "cell_type": "code",
   "execution_count": 15,
   "id": "98783c57-6ae1-4c13-8fd1-7e628ed43e23",
   "metadata": {},
   "outputs": [
    {
     "data": {
      "text/plain": [
       "<Graph identifier=N355c1ec265ea4e36a202e7f538683794 (<class 'rdflib.graph.Graph'>)>"
      ]
     },
     "execution_count": 15,
     "metadata": {},
     "output_type": "execute_result"
    }
   ],
   "source": [
    "graph.serialize(\"/mnt/data/GADM/RDF/gadm_AUT_RDF_population.ttl\")"
   ]
  },
  {
   "cell_type": "code",
   "execution_count": null,
   "id": "6c5a769a-67b8-4b6d-819a-02378e4bc293",
   "metadata": {},
   "outputs": [],
   "source": []
  }
 ],
 "metadata": {
  "kernelspec": {
   "display_name": "aqqa",
   "language": "python",
   "name": "python3"
  },
  "language_info": {
   "codemirror_mode": {
    "name": "ipython",
    "version": 3
   },
   "file_extension": ".py",
   "mimetype": "text/x-python",
   "name": "python",
   "nbconvert_exporter": "python",
   "pygments_lexer": "ipython3",
   "version": "3.8.17"
  }
 },
 "nbformat": 4,
 "nbformat_minor": 5
}
