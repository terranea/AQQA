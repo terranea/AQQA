{
 "cells": [
  {
   "cell_type": "code",
   "execution_count": 21,
   "id": "d87e96bb-8fc7-44a5-9415-a4b685c8c504",
   "metadata": {},
   "outputs": [
    {
     "name": "stdout",
     "output_type": "stream",
     "text": [
      "The autoreload extension is already loaded. To reload it, use:\n",
      "  %reload_ext autoreload\n"
     ]
    }
   ],
   "source": [
    "%load_ext autoreload\n",
    "%autoreload 2"
   ]
  },
  {
   "cell_type": "code",
   "execution_count": 30,
   "id": "d8de1274-9278-4236-bd06-a69defa2509a",
   "metadata": {},
   "outputs": [],
   "source": [
    "import fiona\n",
    "from shapely.geometry import shape\n",
    "from rdflib import Graph, Literal, Namespace, URIRef, XSD, OWL, RDF\n",
    "from rdflib.namespace import GEO\n",
    "import rdflib\n",
    "import os\n",
    "\n",
    "from minio import Minio\n",
    "from minio.error import S3Error"
   ]
  },
  {
   "cell_type": "code",
   "execution_count": 23,
   "id": "12150dd0-5cba-4511-a715-3ae148267cc8",
   "metadata": {},
   "outputs": [],
   "source": [
    "# Define the namespaces\n",
    "gadm = Namespace(\"http://example.com/ontologies/gadm#\")\n",
    "xsd = Namespace(\"http://www.w3.org/2001/XMLSchema#\")\n",
    "sf = Namespace(\"http://www.opengis.net/ont/sf#\")"
   ]
  },
  {
   "cell_type": "code",
   "execution_count": 24,
   "id": "189970d1-fc7a-458d-802c-f0b6a51b390e",
   "metadata": {},
   "outputs": [],
   "source": [
    "# Create a graph\n",
    "g = Graph()\n",
    "g.bind(\"gadm\", gadm)"
   ]
  },
  {
   "cell_type": "code",
   "execution_count": null,
   "id": "390d54a8-d5c0-4f9a-93bc-c1d387b1b96d",
   "metadata": {},
   "outputs": [],
   "source": []
  },
  {
   "cell_type": "markdown",
   "id": "520ad758-f650-4433-a47b-34dbef1610ad",
   "metadata": {},
   "source": [
    "### Converting GADM data into RDF"
   ]
  },
  {
   "cell_type": "code",
   "execution_count": 25,
   "id": "ed42f5a6-b2b6-4ffc-bbea-e69005718b38",
   "metadata": {},
   "outputs": [],
   "source": [
    "path_to_shp_files = [\"/mnt/data/raw/gadm41_DEU_shp/gadm41_DEU_1.shp\", \n",
    "                    \"/mnt/data/raw/gadm41_DEU_shp/gadm41_DEU_2.shp\",\n",
    "                    \"/mnt/data/raw/gadm41_DEU_shp/gadm41_DEU_3.shp\",\n",
    "                    \"/mnt/data/raw/gadm41_DEU_shp/gadm41_DEU_4.shp\"]\n",
    "\n",
    "for path_to_shp_file in path_to_shp_files:\n",
    "\n",
    "    adm_lvl = int(path_to_shp_file.split(\".\")[0].split(\"_\")[-1])\n",
    "    \n",
    "    # Open the Shapefile using fiona\n",
    "    with fiona.open(path_to_shp_file, 'r') as src:\n",
    "        # Iterate through features\n",
    "        for feature in src:\n",
    "            # Print the geometry as WKT\n",
    "            geometry = shape(feature['geometry'])\n",
    "            geometry_wkt = geometry.wkt\n",
    "            \n",
    "            # extracting information\n",
    "            gid = feature[\"properties\"][f\"GID_{adm_lvl}\"].replace(\".\", \"_\")\n",
    "            gid_upper_lvl = feature[\"properties\"][f\"GID_{adm_lvl - 1}\"].replace(\".\", \"_\")\n",
    "            name = feature[\"properties\"][f\"NAME_{adm_lvl}\"]\n",
    "            type_ = feature[\"properties\"][f\"TYPE_{adm_lvl}\"]\n",
    "            country = feature[\"properties\"][\"COUNTRY\"]\n",
    "            \n",
    "            # creating entities\n",
    "            ent_adm_unit = URIRef(gadm[gid])\n",
    "            ent_adm_unit_geom = URIRef(gadm[f\"GEOM_{gid}\"])\n",
    "            ent_hasName = URIRef(gadm[\"hasName\"])\n",
    "            ent_hasNationalLevel = URIRef(gadm[\"hasNationalLevel\"])\n",
    "            ent_hasType = URIRef(gadm[\"hasType\"])\n",
    "            ent_country = URIRef(gadm[\"country\"])\n",
    "            ent_hasUpperLevelUnit = URIRef(gadm[\"hasUpperLevelUnit\"].replace(\".\", \"_\"))\n",
    "    \n",
    "            # creating rdf triples\n",
    "            g.add((ent_adm_unit, RDF.type, gadm.AdministrativeUnit))\n",
    "            g.add((ent_adm_unit, ent_hasName, Literal(name)))\n",
    "            g.add((ent_adm_unit, ent_hasNationalLevel, Literal(adm_lvl)))\n",
    "            g.add((ent_adm_unit, ent_hasType, Literal(type_)))\n",
    "            g.add((ent_adm_unit, ent_country, Literal(country)))\n",
    "            g.add((ent_adm_unit, GEO.hasGeometry, ent_adm_unit_geom))\n",
    "            g.add((ent_adm_unit_geom, RDF.type, sf.Geometry))\n",
    "            g.add((ent_adm_unit_geom, GEO.asWKT, Literal(geometry_wkt, datatype=GEO.wktLiteral)))\n",
    "            \n",
    "            if adm_lvl > 1:\n",
    "                ent_upper_level_unit = URIRef(gadm[gid_upper_lvl])\n",
    "                g.add((ent_adm_unit, ent_hasUpperLevelUnit, ent_upper_level_unit))\n",
    "                    \n",
    "    # Close the fiona dataset\n",
    "    src.close()"
   ]
  },
  {
   "cell_type": "code",
   "execution_count": 26,
   "id": "0f1783e2-2978-48d6-b2cb-d4585220c441",
   "metadata": {},
   "outputs": [
    {
     "data": {
      "text/plain": [
       "<Graph identifier=Nf44f5584f37041328f5df7e9e1e9d209 (<class 'rdflib.graph.Graph'>)>"
      ]
     },
     "execution_count": 26,
     "metadata": {},
     "output_type": "execute_result"
    }
   ],
   "source": [
    "g.serialize(destination=\"/mnt/data/processed/RDF/GADM/gadm_germany.ttl\")"
   ]
  },
  {
   "cell_type": "code",
   "execution_count": null,
   "id": "40fffacf-7240-4e2d-b46e-3a0ff8ffac7e",
   "metadata": {},
   "outputs": [],
   "source": []
  },
  {
   "cell_type": "code",
   "execution_count": 39,
   "id": "cab700de-a04a-48c8-99e9-0c8c4f0a0ff9",
   "metadata": {},
   "outputs": [
    {
     "name": "stdout",
     "output_type": "stream",
     "text": [
      "Upload Successful\n",
      "File uploaded successfully.\n"
     ]
    }
   ],
   "source": [
    "# Upload ttl file to contabo storage\n",
    "# Set your MinIO server information\n",
    "CONTABO_ENDPOINT = 'eu2.contabostorage.com'\n",
    "CONTABO_ACCESS_KEY = '6199ac7eec0ebb44c1252bf8f785285d'\n",
    "CONTABO_SECRET_KEY = '109130641c157b9386e33059ef080778'\n",
    "\n",
    "# Set the name of the bucket\n",
    "BUCKET_NAME = 'aqqa'\n",
    "\n",
    "# Set the path to the local file you want to upload\n",
    "FILE_PATH = \"/mnt/data/processed/RDF/GADM/gadm_germany.ttl\"\n",
    "\n",
    "def upload_to_minio(local_file, bucket, s3_file):\n",
    "    minio_client = Minio(\n",
    "        endpoint=CONTABO_ENDPOINT,\n",
    "        access_key=CONTABO_ACCESS_KEY,\n",
    "        secret_key=CONTABO_SECRET_KEY,\n",
    "        secure=True  # Change to True if using HTTPS\n",
    "    )\n",
    "\n",
    "    try:\n",
    "        minio_client.fput_object(bucket, s3_file, local_file)\n",
    "        print(\"Upload Successful\")\n",
    "        return True\n",
    "    except S3Error as e:\n",
    "        print(\"Error:\", e)\n",
    "        return False\n",
    "\n",
    "uploaded = upload_to_minio(FILE_PATH, BUCKET_NAME, 'gadm_germany.ttl')\n",
    "if uploaded:\n",
    "    print(\"File uploaded successfully.\")\n",
    "else:\n",
    "    print(\"File upload failed.\")"
   ]
  },
  {
   "cell_type": "code",
   "execution_count": null,
   "id": "a06b2793-7175-4251-a329-298b405476ed",
   "metadata": {},
   "outputs": [],
   "source": []
  },
  {
   "cell_type": "code",
   "execution_count": null,
   "id": "087a430c-5f23-4663-9ea1-7ff3cd935740",
   "metadata": {},
   "outputs": [],
   "source": []
  },
  {
   "cell_type": "code",
   "execution_count": null,
   "id": "3df0ecfe-85c7-4836-ba09-2d89dba28cb7",
   "metadata": {},
   "outputs": [],
   "source": []
  },
  {
   "cell_type": "markdown",
   "id": "55743ed8-5977-4935-bf12-3d5b4bc75e3f",
   "metadata": {},
   "source": [
    "### Example Queries"
   ]
  },
  {
   "cell_type": "code",
   "execution_count": 19,
   "id": "00e0ebf3-6e0f-430b-85e3-d1a248fb350c",
   "metadata": {},
   "outputs": [
    {
     "name": "stdout",
     "output_type": "stream",
     "text": [
      "Query 1 Results:\n",
      "http://example.com/ontologies/gadm#DEU_10_44_1_1_1 http://www.opengis.net/ont/geosparql#hasGeometry http://example.com/ontologies/gadm#GEOM_DEU_10_44_1_1_1\n",
      "http://example.com/ontologies/gadm#DEU_10_4_2_1 http://example.com/ontologies/gadm#hasNationalLevel 3\n",
      "http://example.com/ontologies/gadm#GEOM_DEU_11_31_2_1_1 http://www.opengis.net/ont/geosparql#asWKT POLYGON ((6.665374279000105 49.617942810000045, 6.667879582000012 49.620586394999975, 6.6753764160001765 49.623416902000145, 6.678871632000039 49.62149810700009, 6.678237915000068 49.62023544300007, 6.680403233000163 49.61795806900011, 6.684755803000087 49.617797851000034, 6.688429832000054 49.61571502600009, 6.689437867000038 49.616287231000115, 6.693688394000105 49.612712860000045, 6.694113254000058 49.61224746600004, 6.694188117000124 49.61217880300018, 6.694880962000184 49.6116600040001, 6.695554256000094 49.61121749800009, 6.6964111340001296 49.610900877999995, 6.696667193999986 49.610820770000146, 6.697161674000085 49.61070251400014, 6.697953224000173 49.61051178000014, 6.698443412000074 49.61027908400007, 6.6988139160001765 49.60997390700015, 6.698938847000136 49.609626771000194, 6.698866844000122 49.6093101510001, 6.698175431000038 49.60894393900003, 6.696832656000026 49.608745575000114, 6.695252419000099 49.60856628400012, 6.693259716000171 49.608528137000064, 6.692290783000033 49.60868453900002, 6.691963196000188 49.60878753700007, 6.691237449000084 49.60902404800015, 6.6903076180001335 49.60921096900006, 6.689233303000151 49.60930252100019, 6.687819481000076 49.61068344100005, 6.685857297000098 49.61075973600009, 6.684761048000041 49.61079788300009, 6.68209362000016 49.60863876400009, 6.678665637000108 49.60930252100019, 6.676856040000075 49.60979080100009, 6.673195839000186 49.61355972300004, 6.672444343000166 49.61439132700008, 6.671157837999999 49.61532211300016, 6.670353890000115 49.61614990200019, 6.6667323110000325 49.615711213000054, 6.665374279000105 49.617942810000045))\n",
      "http://example.com/ontologies/gadm#GEOM_DEU_2_10_29_2_1 http://www.w3.org/1999/02/22-rdf-syntax-ns#type http://www.opengis.net/ont/sf#Geometry\n",
      "http://example.com/ontologies/gadm#DEU_15_1_6_26_1 http://www.w3.org/1999/02/22-rdf-syntax-ns#type http://example.com/ontologies/gadm#AdministrativeUnit\n",
      "http://example.com/ontologies/gadm#DEU_11_31_4_8_1 http://example.com/ontologies/gadm#hasType Gemeinde\n",
      "http://example.com/ontologies/gadm#DEU_15_10_5_8_1 http://www.w3.org/1999/02/22-rdf-syntax-ns#type http://example.com/ontologies/gadm#AdministrativeUnit\n",
      "http://example.com/ontologies/gadm#DEU_11_29_2_15_1 http://example.com/ontologies/gadm#country Germany\n",
      "http://example.com/ontologies/gadm#DEU_8_1_19_1 http://example.com/ontologies/gadm#hasType Amt\n",
      "http://example.com/ontologies/gadm#DEU_2_6_3_1_1 http://www.w3.org/1999/02/22-rdf-syntax-ns#type http://example.com/ontologies/gadm#AdministrativeUnit\n",
      "http://example.com/ontologies/gadm#DEU_16_17_2_3_1 http://www.opengis.net/ont/geosparql#hasGeometry http://example.com/ontologies/gadm#GEOM_DEU_16_17_2_3_1\n",
      "http://example.com/ontologies/gadm#DEU_10_42_10_1 http://example_com/ontologies/gadm#hasUpperLevelUnit http://example.com/ontologies/gadm#DEU_10_42_1\n",
      "http://example.com/ontologies/gadm#DEU_1_32_11_2_1 http://example.com/ontologies/gadm#country Germany\n",
      "http://example.com/ontologies/gadm#GEOM_DEU_10_30_6_1_1 http://www.w3.org/1999/02/22-rdf-syntax-ns#type http://www.opengis.net/ont/sf#Geometry\n",
      "http://example.com/ontologies/gadm#DEU_2_73_13_1 http://example.com/ontologies/gadm#hasType Einheitsgemeinde\n",
      "http://example.com/ontologies/gadm#DEU_1_1_13_10_1 http://example_com/ontologies/gadm#hasUpperLevelUnit http://example.com/ontologies/gadm#DEU_1_1_13_1\n",
      "http://example.com/ontologies/gadm#DEU_16_17_6_1_1 http://example_com/ontologies/gadm#hasUpperLevelUnit http://example.com/ontologies/gadm#DEU_16_17_6_1\n",
      "http://example.com/ontologies/gadm#DEU_8_1_6_4_1 http://example.com/ontologies/gadm#hasNationalLevel 4\n",
      "http://example.com/ontologies/gadm#DEU_2_12_11_1_1 http://example_com/ontologies/gadm#hasUpperLevelUnit http://example.com/ontologies/gadm#DEU_2_12_11_1\n",
      "http://example.com/ontologies/gadm#DEU_11_3_1_21_1 http://example_com/ontologies/gadm#hasUpperLevelUnit http://example.com/ontologies/gadm#DEU_11_3_1_1\n"
     ]
    }
   ],
   "source": [
    "# Execute Query 1 (get first 10 triples in graph)\n",
    "query1 = \"\"\"    \n",
    "        SELECT ?s ?p ?o\n",
    "        WHERE {\n",
    "            ?s ?p ?o\n",
    "        }\n",
    "        LIMIT 20\n",
    "       \"\"\"\n",
    "\n",
    "results1 = g.query(query1)\n",
    "print(\"Query 1 Results:\")\n",
    "for row in results1:\n",
    "    print(f\"{row['s']} {row['p']} {row['o']}\")"
   ]
  },
  {
   "cell_type": "code",
   "execution_count": null,
   "id": "972e67ca-0614-4271-afaf-31982a83029d",
   "metadata": {},
   "outputs": [],
   "source": []
  },
  {
   "cell_type": "code",
   "execution_count": 20,
   "id": "428f1c68-7b36-4591-9c08-313da92338eb",
   "metadata": {},
   "outputs": [
    {
     "name": "stdout",
     "output_type": "stream",
     "text": [
      "Query 1 Results:\n",
      "Alb-Donau-Kreis Baden-Württemberg 1\n",
      "Alb-Donau-Kreis Baden-Württemberg 1\n",
      "Baden-Baden None None\n",
      "Biberach None None\n",
      "Böblingen None None\n",
      "Bodensee None None\n",
      "Bodenseekreis None None\n",
      "Breisgau-Hochschwarzwald None None\n",
      "Calw None None\n",
      "Emmendingen None None\n"
     ]
    }
   ],
   "source": [
    "# Execute Query 2 (get all names of admin units of level 2 and their upper level name)\n",
    "query1 = \"\"\"    \n",
    "        SELECT ?admin_unit_name ?upper_admin_unit_name ?upper_admin_unit_level\n",
    "        WHERE {\n",
    "            ?admin_unit a gadm:AdministrativeUnit ;\n",
    "                gadm:hasName ?admin_unit_name ;\n",
    "                gadm:hasNationalLevel 2 .\n",
    "            \n",
    "            OPTIONAL {\n",
    "                ?admin_unit gadm:hasUpperLevelUnit ?upper_admin_unit .\n",
    "                ?upper_admin_unit a gadm:AdministrativeUnit ;\n",
    "                    gadm:hasName ?upper_admin_unit_name ;\n",
    "                    gadm:hasNationalLevel ?upper_admin_unit_level .\n",
    "            }\n",
    "        }\n",
    "        LIMIT 10\n",
    "       \"\"\"\n",
    "\n",
    "results1 = g.query(query1)\n",
    "print(\"Query 1 Results:\")\n",
    "for row in results1:\n",
    "    print(f\"{row['admin_unit_name']} {row['upper_admin_unit_name']} {row['upper_admin_unit_level']}\")"
   ]
  },
  {
   "cell_type": "code",
   "execution_count": null,
   "id": "869687ec-ef04-48ea-89a2-ce49f60d98c2",
   "metadata": {},
   "outputs": [],
   "source": []
  }
 ],
 "metadata": {
  "kernelspec": {
   "display_name": "aqqa",
   "language": "python",
   "name": "aqqa"
  },
  "language_info": {
   "codemirror_mode": {
    "name": "ipython",
    "version": 3
   },
   "file_extension": ".py",
   "mimetype": "text/x-python",
   "name": "python",
   "nbconvert_exporter": "python",
   "pygments_lexer": "ipython3",
   "version": "3.8.17"
  }
 },
 "nbformat": 4,
 "nbformat_minor": 5
}
