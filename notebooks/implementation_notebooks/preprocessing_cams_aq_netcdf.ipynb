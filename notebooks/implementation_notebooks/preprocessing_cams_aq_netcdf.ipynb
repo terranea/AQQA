{
 "cells": [
  {
   "cell_type": "code",
   "execution_count": 1,
   "id": "74ad31af-b66f-44d1-ba21-217822c4ef44",
   "metadata": {},
   "outputs": [],
   "source": [
    "%load_ext autoreload\n",
    "%autoreload 2"
   ]
  },
  {
   "cell_type": "code",
   "execution_count": 2,
   "id": "16aa95e6-041b-4a63-96a4-235b5edb738b",
   "metadata": {},
   "outputs": [],
   "source": [
    "import os\n",
    "import xarray as xr\n",
    "import glob\n",
    "import matplotlib.pyplot as plt\n",
    "from rdflib import Graph, Namespace, URIRef, Literal\n",
    "os.chdir(\"/workspaces/aqqa-kg-creation-dev/\")\n",
    "from src.utils import clip_netcdf_to_bb"
   ]
  },
  {
   "cell_type": "code",
   "execution_count": 3,
   "id": "5066dea2-c763-4e30-bf98-257c940eacb4",
   "metadata": {},
   "outputs": [],
   "source": [
    "year = \"2020\"\n",
    "month = \"01\"\n",
    "bounding_box = [45.82, 50.65, 8.95, 17.22]"
   ]
  },
  {
   "cell_type": "code",
   "execution_count": 5,
   "id": "1a2e08a2-ae37-4065-a291-635eafa87954",
   "metadata": {},
   "outputs": [],
   "source": [
    "ds_dict = {}\n",
    "\n",
    "# read in data \n",
    "search_string = f\"/mnt/data/raw/cams_euro_aq_reanalysis/{year}/download_{year}_{month}_all_variables/*\"\n",
    "path_to_files = glob.glob(search_string)\n",
    "\n",
    "for path_to_file in path_to_files:\n",
    "\n",
    "    # extract variable from path name\n",
    "    var = path_to_file.split(\".\")[-4]\n",
    "\n",
    "    # open dataset\n",
    "    ds = xr.open_dataset(path_to_file)\n",
    "\n",
    "    # clipt data to bounding box\n",
    "    ds_bb = clip_netcdf_to_bb(ds, bounding_box)\n",
    "\n",
    "    # period averaging\n",
    "    if var == \"O3\":\n",
    "        ds_bb_agg = ds_bb.resample(time=\"8H\").mean()\n",
    "    else:\n",
    "        ds_bb_agg= ds_bb.resample(time=\"24H\").mean()\n",
    "\n",
    "    # save netcdf \n",
    "    base_path_output = f\"/mnt/data/processed/CAMS_AQ_AOI_AGG/{year}/{month}\"\n",
    "    if not os.path.exists(base_path_output):\n",
    "        os.makedirs(base_path_output)\n",
    "    path_output = os.path.join(base_path_output, f\"cams_aq_{var}_{year}{month}.nc\")\n",
    "    ds_bb_agg.to_netcdf(path_output)"
   ]
  },
  {
   "cell_type": "code",
   "execution_count": null,
   "id": "7fa04346-13a2-4fb9-b5ae-91b339b93a25",
   "metadata": {},
   "outputs": [],
   "source": []
  }
 ],
 "metadata": {
  "kernelspec": {
   "display_name": "aqqa",
   "language": "python",
   "name": "aqqa"
  },
  "language_info": {
   "codemirror_mode": {
    "name": "ipython",
    "version": 3
   },
   "file_extension": ".py",
   "mimetype": "text/x-python",
   "name": "python",
   "nbconvert_exporter": "python",
   "pygments_lexer": "ipython3",
   "version": "3.8.17"
  }
 },
 "nbformat": 4,
 "nbformat_minor": 5
}
