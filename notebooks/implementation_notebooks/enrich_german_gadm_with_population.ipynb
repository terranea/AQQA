{
 "cells": [
  {
   "cell_type": "code",
   "execution_count": 1,
   "id": "a4b90172-7825-4e54-999e-beff3d0b910c",
   "metadata": {},
   "outputs": [],
   "source": [
    "import pandas as pd\n",
    "import fiona\n",
    "from rdflib import Graph, Namespace, URIRef, XSD, Literal"
   ]
  },
  {
   "cell_type": "markdown",
   "id": "b69c0c8e-ddda-4be2-9b2f-75410c3877c8",
   "metadata": {},
   "source": [
    "Dataset of population of Austrian municipalities: \n",
    "\n",
    "https://regionalatlas.statistikportal.de/#"
   ]
  },
  {
   "cell_type": "code",
   "execution_count": 6,
   "id": "ea965014-7d83-4df1-ba91-c2577d35a829",
   "metadata": {},
   "outputs": [],
   "source": [
    "# import population data Austria\n",
    "population_data = pd.read_csv(\"/mnt/data/processed/tmp/bevölkerung_gemeinden_deutschland.csv\", skiprows=0, delimiter=\",\", encoding=\"utf-8\")"
   ]
  },
  {
   "cell_type": "code",
   "execution_count": 8,
   "id": "22b9e7db-d0c0-4ec6-994b-ccf3b4965766",
   "metadata": {},
   "outputs": [
    {
     "data": {
      "text/html": [
       "<div>\n",
       "<style scoped>\n",
       "    .dataframe tbody tr th:only-of-type {\n",
       "        vertical-align: middle;\n",
       "    }\n",
       "\n",
       "    .dataframe tbody tr th {\n",
       "        vertical-align: top;\n",
       "    }\n",
       "\n",
       "    .dataframe thead th {\n",
       "        text-align: right;\n",
       "    }\n",
       "</style>\n",
       "<table border=\"1\" class=\"dataframe\">\n",
       "  <thead>\n",
       "    <tr style=\"text-align: right;\">\n",
       "      <th></th>\n",
       "      <th>id</th>\n",
       "      <th>gen</th>\n",
       "      <th>jahr</th>\n",
       "      <th>pop_2021</th>\n",
       "    </tr>\n",
       "  </thead>\n",
       "  <tbody>\n",
       "    <tr>\n",
       "      <th>0</th>\n",
       "      <td>465881</td>\n",
       "      <td>Flensburg</td>\n",
       "      <td>2021</td>\n",
       "      <td>79131.0</td>\n",
       "    </tr>\n",
       "    <tr>\n",
       "      <th>1</th>\n",
       "      <td>465882</td>\n",
       "      <td>Kiel</td>\n",
       "      <td>2021</td>\n",
       "      <td>233102.0</td>\n",
       "    </tr>\n",
       "    <tr>\n",
       "      <th>2</th>\n",
       "      <td>465883</td>\n",
       "      <td>Lübeck</td>\n",
       "      <td>2021</td>\n",
       "      <td>213739.0</td>\n",
       "    </tr>\n",
       "    <tr>\n",
       "      <th>3</th>\n",
       "      <td>465884</td>\n",
       "      <td>Neumünster</td>\n",
       "      <td>2021</td>\n",
       "      <td>79455.0</td>\n",
       "    </tr>\n",
       "    <tr>\n",
       "      <th>4</th>\n",
       "      <td>465885</td>\n",
       "      <td>Brunsbüttel</td>\n",
       "      <td>2021</td>\n",
       "      <td>9468.0</td>\n",
       "    </tr>\n",
       "  </tbody>\n",
       "</table>\n",
       "</div>"
      ],
      "text/plain": [
       "       id          gen  jahr  pop_2021\n",
       "0  465881    Flensburg  2021   79131.0\n",
       "1  465882         Kiel  2021  233102.0\n",
       "2  465883       Lübeck  2021  213739.0\n",
       "3  465884   Neumünster  2021   79455.0\n",
       "4  465885  Brunsbüttel  2021    9468.0"
      ]
     },
     "execution_count": 8,
     "metadata": {},
     "output_type": "execute_result"
    }
   ],
   "source": [
    "population_data.head()"
   ]
  },
  {
   "cell_type": "code",
   "execution_count": 10,
   "id": "d3329cfc-a378-44cb-a69a-d6591401f44c",
   "metadata": {},
   "outputs": [
    {
     "data": {
      "text/plain": [
       "<Graph identifier=N6171308966e6438fafcf60f05981c5fc (<class 'rdflib.graph.Graph'>)>"
      ]
     },
     "execution_count": 10,
     "metadata": {},
     "output_type": "execute_result"
    }
   ],
   "source": [
    "# load gadm dataset \n",
    "path_to_gadm_graph = \"/mnt/data/processed/RDF/GADM/gadm_germany.ttl\"\n",
    "\n",
    "gadm = Namespace(\"http://example.com/ontologies/gadm#\")\n",
    "\n",
    "graph = Graph()\n",
    "graph.bind(\"gadm\", gadm)\n",
    "\n",
    "graph.parse(path_to_gadm_graph, format='ttl')"
   ]
  },
  {
   "cell_type": "code",
   "execution_count": 11,
   "id": "0da2c9b3-22fc-4529-9eb0-dec33ee25021",
   "metadata": {},
   "outputs": [],
   "source": [
    "ent_hasPop = URIRef(gadm[\"hasPopulation2021\"])"
   ]
  },
  {
   "cell_type": "code",
   "execution_count": 13,
   "id": "557b1e48-4efd-4c5f-920c-cb626c383a88",
   "metadata": {},
   "outputs": [],
   "source": [
    "query = \"\"\"\n",
    "SELECT ?subject ?name\n",
    "WHERE {\n",
    "  ?subject gadm:hasNationalLevel 3 ;\n",
    "           gadm:hasName ?name .\n",
    "}\n",
    "\"\"\"\n",
    "\n",
    "# Execute the query and iterate over the results\n",
    "for row in graph.query(query):\n",
    "    admin_ent, name = row\n",
    "    try:\n",
    "        pop = population_data[population_data.gen == name.strip()][\"pop_2021\"].values[0]\n",
    "        graph.add((admin_ent, ent_hasPop, Literal(pop, datatype=XSD.integer))) \n",
    "        #print(name, pop)\n",
    "    except:\n",
    "        pass"
   ]
  },
  {
   "cell_type": "code",
   "execution_count": 14,
   "id": "98783c57-6ae1-4c13-8fd1-7e628ed43e23",
   "metadata": {},
   "outputs": [
    {
     "data": {
      "text/plain": [
       "<Graph identifier=N6171308966e6438fafcf60f05981c5fc (<class 'rdflib.graph.Graph'>)>"
      ]
     },
     "execution_count": 14,
     "metadata": {},
     "output_type": "execute_result"
    }
   ],
   "source": [
    "graph.serialize(\"/mnt/data/processed/tmp/gadm_germany_population.ttl\")"
   ]
  },
  {
   "cell_type": "code",
   "execution_count": null,
   "id": "6c5a769a-67b8-4b6d-819a-02378e4bc293",
   "metadata": {},
   "outputs": [],
   "source": []
  }
 ],
 "metadata": {
  "kernelspec": {
   "display_name": "aqqa",
   "language": "python",
   "name": "aqqa"
  },
  "language_info": {
   "codemirror_mode": {
    "name": "ipython",
    "version": 3
   },
   "file_extension": ".py",
   "mimetype": "text/x-python",
   "name": "python",
   "nbconvert_exporter": "python",
   "pygments_lexer": "ipython3",
   "version": "3.8.17"
  }
 },
 "nbformat": 4,
 "nbformat_minor": 5
}
