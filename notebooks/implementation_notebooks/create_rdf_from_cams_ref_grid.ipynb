{
 "cells": [
  {
   "cell_type": "code",
   "execution_count": 34,
   "id": "eb7d049e-becc-4d41-8cd9-89d7f8ad24ae",
   "metadata": {},
   "outputs": [
    {
     "name": "stdout",
     "output_type": "stream",
     "text": [
      "The autoreload extension is already loaded. To reload it, use:\n",
      "  %reload_ext autoreload\n"
     ]
    }
   ],
   "source": [
    "%load_ext autoreload\n",
    "%autoreload 2"
   ]
  },
  {
   "cell_type": "code",
   "execution_count": 35,
   "id": "f0b30bde-204a-4983-84dd-a9587ec6926e",
   "metadata": {},
   "outputs": [],
   "source": [
    "from rdflib import Graph, Literal, Namespace, RDF, URIRef, XSD, RDFS, SOSA, ConjunctiveGraph\n",
    "from rdflib.plugins.stores import sparqlstore\n",
    "from rdflib.graph import DATASET_DEFAULT_GRAPH_ID as default\n",
    "from SPARQLWrapper import SPARQLWrapper, POST, DIGEST\n",
    "import requests\n",
    "import json\n",
    "from shapely.geometry import shape\n",
    "import os\n",
    "import xarray as xr\n",
    "os.chdir(\"/workspaces/aqqa-kg-creation-dev/\")"
   ]
  },
  {
   "cell_type": "code",
   "execution_count": 36,
   "id": "5cf58e63-35bb-4f08-9ad9-465a1cff21fe",
   "metadata": {},
   "outputs": [],
   "source": [
    "# loading ref raster cells\n",
    "ref_raster_geojson = \"/mnt/data/processed/ref_raster.geojson\"\n",
    "with open(ref_raster_geojson, \"r\") as f:\n",
    "    geojson_data = json.load(f)\n",
    "\n",
    "features = geojson_data.get(\"features\", [])\n",
    "geometries = [feature.get(\"geometry\") for feature in features]\n",
    "indexes = [feature.get(\"properties\")[\"index\"] for feature in features]\n",
    "shapely_geometries = [shape(geometry).wkt for geometry in geometries]"
   ]
  },
  {
   "cell_type": "code",
   "execution_count": 37,
   "id": "8f04ba8e-ac64-416a-879e-f01d6e9857fd",
   "metadata": {},
   "outputs": [],
   "source": [
    "# Define the namespaces\n",
    "aqqa = Namespace(\"http://example.com/ontologies/aqqa#\")\n",
    "geo = Namespace(\"http://www.opengis.net/ont/geosparql#\")\n",
    "xsd = Namespace(\"http://www.w3.org/2001/XMLSchema#\")\n",
    "sf = Namespace(\"http://www.opengis.net/ont/sf#\")\n",
    "\n",
    "# Create a graph\n",
    "g = Graph()\n",
    "g.bind(\"aqqa\", aqqa)"
   ]
  },
  {
   "cell_type": "code",
   "execution_count": 38,
   "id": "de359be0-532f-4980-84cd-86198ee877db",
   "metadata": {},
   "outputs": [],
   "source": [
    "# reading geometries and Features of interest into RDF graph\n",
    "for i, (index, geom) in enumerate(zip(indexes, shapely_geometries)):\n",
    "    \n",
    "    ent_geom_cell = URIRef(aqqa[f\"GeomCell_{index[0]}_{index[1]}\"])   \n",
    "    ent_cell = URIRef(aqqa[f\"Cell_{index[0]}_{index[1]}\"])   \n",
    "    ent_hasID = URIRef(aqqa[\"hasID\"])\n",
    "\n",
    "    g.add((ent_cell, RDF.type, SOSA.FeatureOfInterest))\n",
    "    g.add((ent_cell, ent_hasID, Literal(i)))\n",
    "    g.add((ent_cell, geo.hasGeometry, ent_geom_cell))\n",
    "    \n",
    "    g.add((ent_geom_cell, RDF.type, sf.Geometry))\n",
    "    g.add((ent_geom_cell, geo.asWKT, Literal(geom, datatype=geo.wktLiteral)))"
   ]
  },
  {
   "cell_type": "code",
   "execution_count": 39,
   "id": "e8481ca1-ac90-44b9-8776-9a2cf34d4587",
   "metadata": {},
   "outputs": [
    {
     "name": "stdout",
     "output_type": "stream",
     "text": [
      "Query 1 Results:\n",
      "http://example.com/ontologies/aqqa#GeomCell_38_54 http://www.w3.org/1999/02/22-rdf-syntax-ns#type http://www.opengis.net/ont/sf#Geometry \n",
      "http://example.com/ontologies/aqqa#Cell_17_46 http://www.opengis.net/ont/geosparql#hasGeometry http://example.com/ontologies/aqqa#GeomCell_17_46 \n",
      "http://example.com/ontologies/aqqa#GeomCell_21_62 http://www.opengis.net/ont/geosparql#asWKT POLYGON ((15.15 47.95, 15.25 47.95, 15.25 48.05, 15.15 48.05, 15.15 47.95)) \n",
      "http://example.com/ontologies/aqqa#Cell_3_47 http://www.w3.org/1999/02/22-rdf-syntax-ns#type http://www.w3.org/ns/sosa/FeatureOfInterest \n",
      "http://example.com/ontologies/aqqa#Cell_35_38 http://www.opengis.net/ont/geosparql#hasGeometry http://example.com/ontologies/aqqa#GeomCell_35_38 \n",
      "http://example.com/ontologies/aqqa#GeomCell_41_59 http://www.w3.org/1999/02/22-rdf-syntax-ns#type http://www.opengis.net/ont/sf#Geometry \n",
      "http://example.com/ontologies/aqqa#GeomCell_14_74 http://www.opengis.net/ont/geosparql#asWKT POLYGON ((16.35 47.25, 16.45 47.25, 16.45 47.35, 16.35 47.35, 16.35 47.25)) \n",
      "http://example.com/ontologies/aqqa#Cell_15_32 http://www.opengis.net/ont/geosparql#hasGeometry http://example.com/ontologies/aqqa#GeomCell_15_32 \n",
      "http://example.com/ontologies/aqqa#Cell_39_5 http://www.w3.org/1999/02/22-rdf-syntax-ns#type http://www.w3.org/ns/sosa/FeatureOfInterest \n",
      "http://example.com/ontologies/aqqa#Cell_22_43 http://example.com/ontologies/aqqa#hasID 1869 \n"
     ]
    }
   ],
   "source": [
    "# Execute Query 1 (get variable, time and result of all observations)\n",
    "query1 = \"\"\"    \n",
    "        SELECT ?s ?p ?o\n",
    "        WHERE {\n",
    "            ?s ?p ?o\n",
    "        }\n",
    "        LIMIT 10\n",
    "       \"\"\"\n",
    "\n",
    "results1 = g.query(query1)\n",
    "print(\"Query 1 Results:\")\n",
    "for row in results1:\n",
    "    print(f\"{row['s']} {row['p']} {row['o']} \")"
   ]
  },
  {
   "cell_type": "code",
   "execution_count": null,
   "id": "55eb8785-11d8-43b0-b27c-ed97dee6dc59",
   "metadata": {},
   "outputs": [],
   "source": []
  },
  {
   "cell_type": "code",
   "execution_count": 40,
   "id": "d8e72eae-5b75-4678-98f8-fd1ebe344c99",
   "metadata": {},
   "outputs": [
    {
     "data": {
      "text/plain": [
       "<Graph identifier=N08363365a46e4ef0a1b538ba3ec84e53 (<class 'rdflib.graph.Graph'>)>"
      ]
     },
     "execution_count": 40,
     "metadata": {},
     "output_type": "execute_result"
    }
   ],
   "source": [
    "g.serialize(destination=\"/mnt/data/processed/RDF/CAMS/CAMS_ref_grid.ttl\")"
   ]
  },
  {
   "cell_type": "code",
   "execution_count": null,
   "id": "545bf546-e499-4d6f-aa6c-971a82dd2e01",
   "metadata": {},
   "outputs": [],
   "source": []
  }
 ],
 "metadata": {
  "kernelspec": {
   "display_name": "aqqa",
   "language": "python",
   "name": "aqqa"
  },
  "language_info": {
   "codemirror_mode": {
    "name": "ipython",
    "version": 3
   },
   "file_extension": ".py",
   "mimetype": "text/x-python",
   "name": "python",
   "nbconvert_exporter": "python",
   "pygments_lexer": "ipython3",
   "version": "3.8.17"
  }
 },
 "nbformat": 4,
 "nbformat_minor": 5
}
