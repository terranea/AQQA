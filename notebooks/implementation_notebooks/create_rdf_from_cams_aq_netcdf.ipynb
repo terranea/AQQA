{
 "cells": [
  {
   "cell_type": "code",
   "execution_count": 4,
   "id": "4abd6565-3c84-4d5b-8cfc-a07c26b48f4c",
   "metadata": {},
   "outputs": [
    {
     "name": "stdout",
     "output_type": "stream",
     "text": [
      "The autoreload extension is already loaded. To reload it, use:\n",
      "  %reload_ext autoreload\n"
     ]
    }
   ],
   "source": [
    "%load_ext autoreload\n",
    "%autoreload 2"
   ]
  },
  {
   "cell_type": "code",
   "execution_count": 41,
   "id": "10467e13-ea86-4fad-9341-a73b14c7e481",
   "metadata": {},
   "outputs": [],
   "source": [
    "from rdflib import Graph, Literal, Namespace, RDF, URIRef, XSD, RDFS, SOSA, ConjunctiveGraph\n",
    "from rdflib.plugins.stores import sparqlstore\n",
    "from rdflib.graph import DATASET_DEFAULT_GRAPH_ID as default\n",
    "from SPARQLWrapper import SPARQLWrapper, POST, DIGEST\n",
    "import requests\n",
    "import json\n",
    "from shapely.geometry import shape\n",
    "import os\n",
    "import xarray as xr\n",
    "os.chdir(\"/workspaces/aqqa-kg-creation-dev/\")\n",
    "from scripts.utils import unix_ts_to_date_str\n",
    "from scripts.production_scripts.observableProperties import variables_dict"
   ]
  },
  {
   "cell_type": "code",
   "execution_count": 42,
   "id": "aeba7684-af42-43c8-9d1f-89507cfdf06b",
   "metadata": {},
   "outputs": [],
   "source": [
    "# Define the namespaces\n",
    "aqqa = Namespace(\"http://example.com/ontologies/aqqa#\")\n",
    "geo = Namespace(\"http://www.opengis.net/ont/geosparql#\")\n",
    "xsd = Namespace(\"http://www.w3.org/2001/XMLSchema#\")\n",
    "sf = Namespace(\"http://www.opengis.net/ont/sf#\")"
   ]
  },
  {
   "cell_type": "code",
   "execution_count": null,
   "id": "b0744086-5d89-4be8-aac8-85b7b4937d71",
   "metadata": {},
   "outputs": [],
   "source": []
  },
  {
   "cell_type": "markdown",
   "id": "d984a832-ae11-466f-ad22-3eeb72e67609",
   "metadata": {},
   "source": [
    "### Create RDF file for obervable Properties"
   ]
  },
  {
   "cell_type": "code",
   "execution_count": 43,
   "id": "f128ce71-df25-4e3a-8ef1-fe98ea458b9b",
   "metadata": {},
   "outputs": [],
   "source": [
    "# Create a graph\n",
    "g = Graph()\n",
    "g.bind(\"aqqa\", aqqa)"
   ]
  },
  {
   "cell_type": "code",
   "execution_count": 44,
   "id": "24c1143f-bdad-4d9e-8691-2db8c0073d7d",
   "metadata": {},
   "outputs": [],
   "source": [
    "# reading in observable properties into RDF Graph\n",
    "for var in variables_dict:\n",
    "\n",
    "    ent_obs_prop = URIRef(aqqa[f\"{var}\"])\n",
    "    ent_has_unit = URIRef(aqqa[\"hasUnit\"])\n",
    "    ent_avg_period = URIRef(aqqa[\"averagingPeriod\"])\n",
    "\n",
    "    g.add((ent_obs_prop, RDF.type, SOSA.ObservableProperty))\n",
    "    g.add((ent_obs_prop, RDFS.label, Literal(variables_dict[var][\"label\"])))\n",
    "    g.add((ent_obs_prop, ent_has_unit, Literal(variables_dict[var][\"hasUnit\"])))\n",
    "    g.add((ent_obs_prop, ent_avg_period, Literal(variables_dict[var][\"averagingPeriod\"])))\n",
    "    g.add((ent_obs_prop, RDFS.comment, Literal(variables_dict[var][\"comment\"])))"
   ]
  },
  {
   "cell_type": "code",
   "execution_count": 46,
   "id": "28648bdf-d4f5-4283-b278-b6a2b7ee24e6",
   "metadata": {},
   "outputs": [
    {
     "name": "stdout",
     "output_type": "stream",
     "text": [
      "Query 1 Results:\n",
      "http://example.com/ontologies/aqqa#CO http://www.w3.org/1999/02/22-rdf-syntax-ns#type http://www.w3.org/ns/sosa/ObservableProperty \n",
      "http://example.com/ontologies/aqqa#CO http://www.w3.org/2000/01/rdf-schema#label CO \n",
      "http://example.com/ontologies/aqqa#PM10 http://example.com/ontologies/aqqa#hasUnit µg m-3 \n",
      "http://example.com/ontologies/aqqa#O3 http://www.w3.org/1999/02/22-rdf-syntax-ns#type http://www.w3.org/ns/sosa/ObservableProperty \n",
      "http://example.com/ontologies/aqqa#SO2 http://www.w3.org/2000/01/rdf-schema#label SO2 \n",
      "http://example.com/ontologies/aqqa#CO http://example.com/ontologies/aqqa#hasUnit µg m-3 \n",
      "http://example.com/ontologies/aqqa#PM2P5 http://www.w3.org/2000/01/rdf-schema#label PM2.5 \n",
      "http://example.com/ontologies/aqqa#O3 http://www.w3.org/2000/01/rdf-schema#comment Ozone as averaged over 8 hours \n",
      "http://example.com/ontologies/aqqa#PM2P5 http://www.w3.org/1999/02/22-rdf-syntax-ns#type http://www.w3.org/ns/sosa/ObservableProperty \n",
      "http://example.com/ontologies/aqqa#NO2 http://www.w3.org/1999/02/22-rdf-syntax-ns#type http://www.w3.org/ns/sosa/ObservableProperty \n"
     ]
    }
   ],
   "source": [
    "query1 = \"\"\"    \n",
    "        SELECT ?s ?p ?o\n",
    "        WHERE {\n",
    "            ?s ?p ?o\n",
    "        }\n",
    "        LIMIT 10\n",
    "       \"\"\"\n",
    "\n",
    "results1 = g.query(query1)\n",
    "print(\"Query 1 Results:\")\n",
    "for row in results1:\n",
    "    print(f\"{row['s']} {row['p']} {row['o']} \")"
   ]
  },
  {
   "cell_type": "code",
   "execution_count": 47,
   "id": "87ce2dec-7a6a-423d-9b0f-8e5e9a8e2c0c",
   "metadata": {},
   "outputs": [
    {
     "data": {
      "text/plain": [
       "<Graph identifier=N167ff7ec4ba74093bac4a9e9f4c42e71 (<class 'rdflib.graph.Graph'>)>"
      ]
     },
     "execution_count": 47,
     "metadata": {},
     "output_type": "execute_result"
    }
   ],
   "source": [
    "g.serialize(destination=\"/mnt/data/processed/RDF/CAMS/CAMS_observable_properties.ttl\")"
   ]
  },
  {
   "cell_type": "code",
   "execution_count": null,
   "id": "1fb474bd-3fb4-42af-ae09-92b9957f2f7a",
   "metadata": {},
   "outputs": [],
   "source": []
  },
  {
   "cell_type": "markdown",
   "id": "a5404d0a-3693-4697-ad16-3aa9633c3558",
   "metadata": {},
   "source": [
    "### Create RDF file for CAMS sensor"
   ]
  },
  {
   "cell_type": "code",
   "execution_count": 48,
   "id": "1b52e21c-3f8e-4076-a20d-4c9c093bbc3f",
   "metadata": {},
   "outputs": [],
   "source": [
    "# Create a graph\n",
    "g = Graph()\n",
    "g.bind(\"aqqa\", aqqa)"
   ]
  },
  {
   "cell_type": "code",
   "execution_count": 49,
   "id": "c0ee09df-c6e3-4705-a393-6dea19cf885d",
   "metadata": {},
   "outputs": [
    {
     "data": {
      "text/plain": [
       "<Graph identifier=Nf6dd5591d7964cbcbc5472ddcaad43a0 (<class 'rdflib.graph.Graph'>)>"
      ]
     },
     "execution_count": 49,
     "metadata": {},
     "output_type": "execute_result"
    }
   ],
   "source": [
    "ent_cams_sensor = URIRef(aqqa[f\"CAMS_AQ_reanalysis_ensemble_lvl_0\"])\n",
    "ent_has_provider = URIRef(aqqa[\"hasProvider\"])\n",
    "\n",
    "g.add((ent_cams_sensor, RDF.type, SOSA.Sensor))\n",
    "g.add((ent_cams_sensor, ent_has_provider, Literal(\"Copernicus Atmosphere Monitoring Service (CAMS)\")))"
   ]
  },
  {
   "cell_type": "code",
   "execution_count": 50,
   "id": "48c7ff6c-c89e-41e5-9d8d-9422b335477d",
   "metadata": {},
   "outputs": [
    {
     "name": "stdout",
     "output_type": "stream",
     "text": [
      "Query 1 Results:\n",
      "http://example.com/ontologies/aqqa#CAMS_AQ_reanalysis_ensemble_lvl_0 http://www.w3.org/1999/02/22-rdf-syntax-ns#type http://www.w3.org/ns/sosa/Sensor \n",
      "http://example.com/ontologies/aqqa#CAMS_AQ_reanalysis_ensemble_lvl_0 http://example.com/ontologies/aqqa#hasProvider Copernicus Atmosphere Monitoring Service (CAMS) \n"
     ]
    }
   ],
   "source": [
    "query1 = \"\"\"    \n",
    "        SELECT ?s ?p ?o\n",
    "        WHERE {\n",
    "            ?s ?p ?o\n",
    "        }\n",
    "        LIMIT 10\n",
    "       \"\"\"\n",
    "\n",
    "results1 = g.query(query1)\n",
    "print(\"Query 1 Results:\")\n",
    "for row in results1:\n",
    "    print(f\"{row['s']} {row['p']} {row['o']} \")"
   ]
  },
  {
   "cell_type": "code",
   "execution_count": 51,
   "id": "8f51e746-4860-4b0a-b756-2aac07b7c5b1",
   "metadata": {},
   "outputs": [
    {
     "data": {
      "text/plain": [
       "<Graph identifier=Nf6dd5591d7964cbcbc5472ddcaad43a0 (<class 'rdflib.graph.Graph'>)>"
      ]
     },
     "execution_count": 51,
     "metadata": {},
     "output_type": "execute_result"
    }
   ],
   "source": [
    "g.serialize(destination=\"/mnt/data/processed/RDF/CAMS/CAMS_sensor_data.ttl\")"
   ]
  },
  {
   "cell_type": "code",
   "execution_count": null,
   "id": "4b79e790-dd8a-4395-9054-47db753bac2f",
   "metadata": {},
   "outputs": [],
   "source": []
  },
  {
   "cell_type": "markdown",
   "id": "1840e28f-6fb7-448c-9d45-fd668e77aa87",
   "metadata": {},
   "source": [
    "### Create RDF file for monthly observations"
   ]
  },
  {
   "cell_type": "code",
   "execution_count": 34,
   "id": "08adda50-94bc-4716-bb76-771eed8f5bad",
   "metadata": {},
   "outputs": [],
   "source": [
    "# Create a graph\n",
    "g = Graph()\n",
    "g.bind(\"aqqa\", aqqa)"
   ]
  },
  {
   "cell_type": "code",
   "execution_count": 53,
   "id": "71c92303-baa3-4167-a46c-42b7102d3896",
   "metadata": {},
   "outputs": [],
   "source": [
    "# reading in observations into RDF Graph\n",
    "year = \"2020\"\n",
    "month = \"01\"\n",
    "for var_name in variables_dict:\n",
    "    path_to_nc_file = f\"/mnt/data/processed/CAMS_AQ_AOI_AGG/{year}/{month}/cams_aq_{var_name.lower()}_{year}{month}.nc\"\n",
    "    ds = xr.open_dataset(path_to_nc_file) \n",
    "    measurement_var = ds.variables[var_name.lower()]\n",
    "    time_var = ds.variables[\"time\"]\n",
    "\n",
    "    for t_i, time in enumerate(time_var):\n",
    "        for row_i in range(measurement_var.data.shape[1]):\n",
    "            for col_i in range(measurement_var.data.shape[2]):\n",
    "                \n",
    "                t = unix_ts_to_date_str(time.item())\n",
    "                measurement_value = measurement_var.data[t_i, row_i, col_i]\n",
    "                \n",
    "                ent_obs = URIRef(aqqa[f\"Cell_{row_i}_{col_i}_ts_{t}_var_{var_name}\"])\n",
    "                ent_cell = URIRef(aqqa[f\"Cell_{row_i}_{col_i}\"])   \n",
    "                ent_geom_cell = URIRef(aqqa[f\"GeomCell_{row_i}_{col_i}\"])   \n",
    "                ent_obs_prop = URIRef(aqqa[f\"{var_name}\"])\n",
    "                ent_cams_sensor = URIRef(aqqa[f\"CAMS_AQ_reanalysis_ensemble_lvl_0\"])\n",
    "    \n",
    "                g.add((ent_obs, RDF.type, SOSA.Observation))\n",
    "                g.add((ent_obs, SOSA.madeBySensor, ent_cams_sensor))\n",
    "                g.add((ent_obs, SOSA.observedProperty, ent_obs_prop))\n",
    "                g.add((ent_obs, SOSA.hasFeatureOfInterest, ent_cell))\n",
    "                g.add((ent_obs, SOSA.hasSimpleResult, Literal(measurement_value)))\n",
    "                g.add((ent_obs, SOSA.resultTime, Literal(t, datatype=XSD.date)))"
   ]
  },
  {
   "cell_type": "code",
   "execution_count": 54,
   "id": "b4e3eded-1773-43cc-82c7-50988a8cb398",
   "metadata": {},
   "outputs": [
    {
     "data": {
      "text/plain": [
       "<Graph identifier=Nf6dd5591d7964cbcbc5472ddcaad43a0 (<class 'rdflib.graph.Graph'>)>"
      ]
     },
     "execution_count": 54,
     "metadata": {},
     "output_type": "execute_result"
    }
   ],
   "source": [
    "g.serialize(destination=f\"/mnt/data/processed/RDF/CAMS/observations/CAMS_observations_{year}_{month}.ttl\")"
   ]
  },
  {
   "cell_type": "code",
   "execution_count": null,
   "id": "fda14f5e-b32e-4423-8eb2-9afdb810a4cc",
   "metadata": {},
   "outputs": [],
   "source": []
  },
  {
   "cell_type": "code",
   "execution_count": null,
   "id": "7edd2c77-734b-4ebf-805b-7eb0460aeec6",
   "metadata": {},
   "outputs": [],
   "source": []
  },
  {
   "attachments": {},
   "cell_type": "markdown",
   "id": "ad25946d-40cf-4537-b522-23b87eceeaef",
   "metadata": {},
   "source": [
    "### Some example queries"
   ]
  },
  {
   "cell_type": "code",
   "execution_count": 9,
   "id": "fb6bd2ce-d6ea-46c9-b287-248aa165ec39",
   "metadata": {},
   "outputs": [
    {
     "name": "stdout",
     "output_type": "stream",
     "text": [
      "Query 1 Results:\n",
      "2020-01-02 35.232746 µg m-3 None http://example.com/ontologies/aqqa#Cell_01\n",
      "2020-01-03 35.272137 µg m-3 None http://example.com/ontologies/aqqa#Cell_01\n",
      "2020-01-04 15.603108 µg m-3 None http://example.com/ontologies/aqqa#Cell_01\n",
      "2020-01-05 22.24642 µg m-3 None http://example.com/ontologies/aqqa#Cell_01\n",
      "2020-01-06 29.234375 µg m-3 None http://example.com/ontologies/aqqa#Cell_01\n",
      "2020-01-07 35.990887 µg m-3 None http://example.com/ontologies/aqqa#Cell_01\n",
      "2020-01-08 40.488934 µg m-3 None http://example.com/ontologies/aqqa#Cell_01\n",
      "2020-01-09 40.826824 µg m-3 None http://example.com/ontologies/aqqa#Cell_01\n",
      "2020-01-10 32.11849 µg m-3 None http://example.com/ontologies/aqqa#Cell_01\n"
     ]
    }
   ],
   "source": [
    "# Execute Query 1 (get variable, time and result of all observations)\n",
    "query1 = \"\"\"    \n",
    "        SELECT ?var ?unit ?time ?measurement ?foI\n",
    "        WHERE {\n",
    "            ?s a sosa:Observation ;\n",
    "               sosa:resultTime ?time ;\n",
    "               sosa:hasSimpleResult ?measurement ;\n",
    "               sosa:observedProperty [ rdfs:label \"NO2\"; aqqa:hasUnit ?unit ] ;\n",
    "               sosa:hasFeatureOfInterest [ aqqa:hasID 1 ] .\n",
    "            \n",
    "            ?foI aqqa:hasID 1 .\n",
    "            \n",
    "            FILTER (?time >= \"2020-01-02\"^^xsd:date && ?time <= \"2020-01-10\"^^xsd:date)\n",
    "        }\n",
    "        LIMIT 10\n",
    "       \"\"\"\n",
    "\n",
    "results1 = g.query(query1)\n",
    "print(\"Query 1 Results:\")\n",
    "for row in results1:\n",
    "    print(f\"{row['time']} {row['measurement']} {row['unit']} {row['var']} {row['foI']}\")"
   ]
  },
  {
   "cell_type": "code",
   "execution_count": null,
   "id": "67fb4e66-e5bf-4687-878f-915b8ca37f41",
   "metadata": {},
   "outputs": [],
   "source": []
  }
 ],
 "metadata": {
  "kernelspec": {
   "display_name": "aqqa",
   "language": "python",
   "name": "aqqa"
  },
  "language_info": {
   "codemirror_mode": {
    "name": "ipython",
    "version": 3
   },
   "file_extension": ".py",
   "mimetype": "text/x-python",
   "name": "python",
   "nbconvert_exporter": "python",
   "pygments_lexer": "ipython3",
   "version": "3.8.17"
  }
 },
 "nbformat": 4,
 "nbformat_minor": 5
}
