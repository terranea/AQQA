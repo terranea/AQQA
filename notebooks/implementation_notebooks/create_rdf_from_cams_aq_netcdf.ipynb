{
 "cells": [
  {
   "cell_type": "code",
   "execution_count": 58,
   "id": "4abd6565-3c84-4d5b-8cfc-a07c26b48f4c",
   "metadata": {},
   "outputs": [
    {
     "name": "stdout",
     "output_type": "stream",
     "text": [
      "The autoreload extension is already loaded. To reload it, use:\n",
      "  %reload_ext autoreload\n"
     ]
    }
   ],
   "source": [
    "%load_ext autoreload\n",
    "%autoreload 2"
   ]
  },
  {
   "cell_type": "code",
   "execution_count": 32,
   "id": "10467e13-ea86-4fad-9341-a73b14c7e481",
   "metadata": {},
   "outputs": [],
   "source": [
    "from rdflib import Graph, Literal, Namespace, RDF, URIRef, XSD, RDFS, SOSA, ConjunctiveGraph\n",
    "from rdflib.plugins.stores import sparqlstore\n",
    "from rdflib.graph import DATASET_DEFAULT_GRAPH_ID as default\n",
    "from SPARQLWrapper import SPARQLWrapper, POST, DIGEST\n",
    "import requests\n",
    "import json\n",
    "from shapely.geometry import shape\n",
    "import os\n",
    "import xarray as xr\n",
    "os.chdir(\"/workspaces/aqqa-kg-creation-dev/\")\n",
    "from observableProperties import variables_dict\n",
    "from src.utils import unix_ts_to_date_str"
   ]
  },
  {
   "cell_type": "code",
   "execution_count": 3,
   "id": "aeba7684-af42-43c8-9d1f-89507cfdf06b",
   "metadata": {},
   "outputs": [],
   "source": [
    "# Define the namespaces\n",
    "aqqa = Namespace(\"http://example.com/ontologies/aqqa#\")\n",
    "geo = Namespace(\"http://www.opengis.net/ont/geosparql#\")\n",
    "xsd = Namespace(\"http://www.w3.org/2001/XMLSchema#\")\n",
    "sf = Namespace(\"http://www.opengis.net/ont/sf#\")"
   ]
  },
  {
   "cell_type": "code",
   "execution_count": 4,
   "id": "a08bd5b5-ee2f-4564-949b-4cd489eff34e",
   "metadata": {},
   "outputs": [],
   "source": [
    "# Create a graph\n",
    "g = Graph()\n",
    "g.bind(\"aqqa\", aqqa)"
   ]
  },
  {
   "cell_type": "code",
   "execution_count": 5,
   "id": "525b3cae-4f1d-482d-9476-e7e13ed2e096",
   "metadata": {},
   "outputs": [],
   "source": [
    "# loading ref raster cells\n",
    "ref_raster_geojson = \"/mnt/data/processed/ref_raster.geojson\"\n",
    "with open(ref_raster_geojson, \"r\") as f:\n",
    "    geojson_data = json.load(f)\n",
    "\n",
    "features = geojson_data.get(\"features\", [])\n",
    "geometries = [feature.get(\"geometry\") for feature in features]\n",
    "indexes = [feature.get(\"properties\")[\"index\"] for feature in features]\n",
    "shapely_geometries = [shape(geometry).wkt for geometry in geometries]"
   ]
  },
  {
   "cell_type": "code",
   "execution_count": 6,
   "id": "0d9f20c9-14fb-4f31-b1f9-2576f6b1f1d3",
   "metadata": {},
   "outputs": [],
   "source": [
    "# reading geometries and Features of interest into RDF graph\n",
    "for i, (index, geom) in enumerate(zip(indexes, shapely_geometries)):\n",
    "    \n",
    "    ent_geom_cell = URIRef(aqqa[f\"GeomCell_{index[0]}{index[1]}\"])   \n",
    "    ent_cell = URIRef(aqqa[f\"Cell_{index[0]}{index[1]}\"])   \n",
    "    ent_hasID = URIRef(aqqa[\"hasID\"])\n",
    "\n",
    "    g.add((ent_cell, RDF.type, SOSA.FeatureOfInterest))\n",
    "    g.add((ent_cell, ent_hasID, Literal(i)))\n",
    "    g.add((ent_cell, geo.hasGeometry, ent_geom_cell))\n",
    "    \n",
    "    g.add((ent_geom_cell, RDF.type, sf.Geometry))\n",
    "    g.add((ent_geom_cell, geo.asWKT, Literal(geom, datatype=geo.wktLiteral)))"
   ]
  },
  {
   "cell_type": "code",
   "execution_count": 7,
   "id": "24c1143f-bdad-4d9e-8691-2db8c0073d7d",
   "metadata": {},
   "outputs": [],
   "source": [
    "# reading in observable properties into RDF Graph\n",
    "for var in variables_dict:\n",
    "\n",
    "    ent_obs_prop = URIRef(aqqa[f\"{var}\"])\n",
    "    ent_has_unit = URIRef(aqqa[\"hasUnit\"])\n",
    "    ent_avg_period = URIRef(aqqa[\"averagingPeriod\"])\n",
    "\n",
    "    g.add((ent_obs_prop, RDF.type, SOSA.ObservableProperty))\n",
    "    g.add((ent_obs_prop, RDFS.label, Literal(variables_dict[var][\"label\"])))\n",
    "    g.add((ent_obs_prop, ent_has_unit, Literal(variables_dict[var][\"hasUnit\"])))\n",
    "    g.add((ent_obs_prop, ent_avg_period, Literal(variables_dict[var][\"averagingPeriod\"])))\n",
    "    g.add((ent_obs_prop, RDFS.comment, Literal(variables_dict[var][\"comment\"])))"
   ]
  },
  {
   "cell_type": "code",
   "execution_count": 8,
   "id": "71c92303-baa3-4167-a46c-42b7102d3896",
   "metadata": {},
   "outputs": [],
   "source": [
    "# reading in observations into RDF Graph\n",
    "year = \"2020\"\n",
    "month = \"01\"\n",
    "for var_name in variables_dict:\n",
    "    path_to_nc_file = f\"/mnt/data/processed/CAMS_AQ_AOI_AGG/{year}/{month}/cams_aq_{var_name.lower()}_{year}{month}.nc\"\n",
    "    ds = xr.open_dataset(path_to_nc_file) \n",
    "    measurement_var = ds.variables[var_name.lower()]\n",
    "    time_var = ds.variables[\"time\"]\n",
    "\n",
    "    for t_i, time in enumerate(time_var):\n",
    "        for row_i in range(measurement_var.data.shape[1]):\n",
    "            for col_i in range(measurement_var.data.shape[2]):\n",
    "                \n",
    "                t = unix_ts_to_date_str(time.item())\n",
    "                measurement_value = measurement_var.data[t_i, row_i, col_i]\n",
    "                \n",
    "                ent_obs = URIRef(aqqa[f\"Cell_{row_i}{col_i}_ts_{t}_var_{var_name}\"])\n",
    "                ent_cell = URIRef(aqqa[f\"Cell_{row_i}{col_i}\"])   \n",
    "                ent_obs_prop = URIRef(aqqa[f\"{var_name}\"])\n",
    "    \n",
    "                g.add((ent_obs, RDF.type, SOSA.Observation))\n",
    "                g.add((ent_obs, SOSA.hasFeatureOfInterest, ent_cell))\n",
    "                g.add((ent_obs, SOSA.observedProperty, ent_obs_prop))\n",
    "                g.add((ent_obs, SOSA.hasSimpleResult, Literal(measurement_value)))\n",
    "                g.add((ent_obs, SOSA.resultTime, Literal(t, datatype=XSD.date)))"
   ]
  },
  {
   "cell_type": "code",
   "execution_count": null,
   "id": "b4e3eded-1773-43cc-82c7-50988a8cb398",
   "metadata": {},
   "outputs": [],
   "source": []
  },
  {
   "attachments": {},
   "cell_type": "markdown",
   "id": "ad25946d-40cf-4537-b522-23b87eceeaef",
   "metadata": {},
   "source": [
    "### Some example queries"
   ]
  },
  {
   "cell_type": "code",
   "execution_count": 9,
   "id": "fb6bd2ce-d6ea-46c9-b287-248aa165ec39",
   "metadata": {},
   "outputs": [
    {
     "name": "stdout",
     "output_type": "stream",
     "text": [
      "Query 1 Results:\n",
      "2020-01-02 35.232746 µg m-3 None http://example.com/ontologies/aqqa#Cell_01\n",
      "2020-01-03 35.272137 µg m-3 None http://example.com/ontologies/aqqa#Cell_01\n",
      "2020-01-04 15.603108 µg m-3 None http://example.com/ontologies/aqqa#Cell_01\n",
      "2020-01-05 22.24642 µg m-3 None http://example.com/ontologies/aqqa#Cell_01\n",
      "2020-01-06 29.234375 µg m-3 None http://example.com/ontologies/aqqa#Cell_01\n",
      "2020-01-07 35.990887 µg m-3 None http://example.com/ontologies/aqqa#Cell_01\n",
      "2020-01-08 40.488934 µg m-3 None http://example.com/ontologies/aqqa#Cell_01\n",
      "2020-01-09 40.826824 µg m-3 None http://example.com/ontologies/aqqa#Cell_01\n",
      "2020-01-10 32.11849 µg m-3 None http://example.com/ontologies/aqqa#Cell_01\n"
     ]
    }
   ],
   "source": [
    "# Execute Query 1 (get variable, time and result of all observations)\n",
    "query1 = \"\"\"    \n",
    "        SELECT ?var ?unit ?time ?measurement ?foI\n",
    "        WHERE {\n",
    "            ?s a sosa:Observation ;\n",
    "               sosa:resultTime ?time ;\n",
    "               sosa:hasSimpleResult ?measurement ;\n",
    "               sosa:observedProperty [ rdfs:label \"NO2\"; aqqa:hasUnit ?unit ] ;\n",
    "               sosa:hasFeatureOfInterest [ aqqa:hasID 1 ] .\n",
    "            \n",
    "            ?foI aqqa:hasID 1 .\n",
    "            \n",
    "            FILTER (?time >= \"2020-01-02\"^^xsd:date && ?time <= \"2020-01-10\"^^xsd:date)\n",
    "        }\n",
    "        LIMIT 10\n",
    "       \"\"\"\n",
    "\n",
    "results1 = g.query(query1)\n",
    "print(\"Query 1 Results:\")\n",
    "for row in results1:\n",
    "    print(f\"{row['time']} {row['measurement']} {row['unit']} {row['var']} {row['foI']}\")"
   ]
  },
  {
   "cell_type": "code",
   "execution_count": null,
   "id": "67fb4e66-e5bf-4687-878f-915b8ca37f41",
   "metadata": {},
   "outputs": [],
   "source": []
  }
 ],
 "metadata": {
  "kernelspec": {
   "display_name": "aqqa",
   "language": "python",
   "name": "aqqa"
  },
  "language_info": {
   "codemirror_mode": {
    "name": "ipython",
    "version": 3
   },
   "file_extension": ".py",
   "mimetype": "text/x-python",
   "name": "python",
   "nbconvert_exporter": "python",
   "pygments_lexer": "ipython3",
   "version": "3.8.17"
  }
 },
 "nbformat": 4,
 "nbformat_minor": 5
}
