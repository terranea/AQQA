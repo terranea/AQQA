{
 "cells": [
  {
   "cell_type": "code",
   "execution_count": 125,
   "id": "89dba320-7c7a-40f1-9172-fd7339e78af7",
   "metadata": {},
   "outputs": [],
   "source": [
    "from SPARQLWrapper import SPARQLWrapper, JSON,  POST, DIGEST, BASIC"
   ]
  },
  {
   "cell_type": "code",
   "execution_count": null,
   "id": "ed4ff5bc-1dad-4e57-9344-5b872cbfc465",
   "metadata": {},
   "outputs": [],
   "source": []
  },
  {
   "cell_type": "markdown",
   "id": "df8c9201-e1a1-459d-8454-57a027bd8550",
   "metadata": {},
   "source": [
    "### Query "
   ]
  },
  {
   "cell_type": "code",
   "execution_count": 117,
   "id": "507320d6-2c7b-4f2c-a414-aa899bdebc51",
   "metadata": {},
   "outputs": [
    {
     "name": "stdout",
     "output_type": "stream",
     "text": [
      "http://example.com/subject\n"
     ]
    }
   ],
   "source": [
    "endpoint_url = \"http://64.225.134.139:9999/Strabon/Query\"\n",
    "sparql = SPARQLWrapper(endpoint_url)\n",
    "\n",
    "queryString = \"SELECT * WHERE { ?s ?p ?o. }\"\n",
    "\n",
    "sparql.setQuery(queryString)\n",
    "sparql.setReturnFormat(JSON)\n",
    "\n",
    "try:\n",
    "   # Execute the query and get the results\n",
    "   results = sparql.queryAndConvert()\n",
    "   for result in results[\"results\"][\"bindings\"]:\n",
    "       print(result[\"s\"][\"value\"], )\n",
    "except Exception as e:\n",
    "    print(e)"
   ]
  },
  {
   "cell_type": "code",
   "execution_count": 102,
   "id": "4b0ad2f6-e968-40e6-98c4-e6198199c17d",
   "metadata": {},
   "outputs": [
    {
     "data": {
      "text/plain": [
       "{'head': {'vars': ['s', 'p', 'o']}, 'results': {'bindings': []}}"
      ]
     },
     "execution_count": 102,
     "metadata": {},
     "output_type": "execute_result"
    }
   ],
   "source": [
    "results"
   ]
  },
  {
   "cell_type": "markdown",
   "id": "14801638-91fa-443a-b872-71fef28a5d05",
   "metadata": {},
   "source": [
    "### Upload data"
   ]
  },
  {
   "cell_type": "code",
   "execution_count": 128,
   "id": "a17c2283-75dc-4360-9f6b-a3f307e40c05",
   "metadata": {},
   "outputs": [
    {
     "name": "stdout",
     "output_type": "stream",
     "text": [
      "Error uploading data: QueryBadFormed: A bad request has been sent to the endpoint: probably the SPARQL query is badly formed. \n",
      "\n",
      "Response:\n",
      "b\"<?xml version='1.0' encoding='UTF-8'?>\\n<response>\\n\\t<exception>\\nNo SPARQL Update query specified.\\n\\t</exception>\\n</response>\\n\"\n"
     ]
    }
   ],
   "source": [
    "from SPARQLWrapper import SPARQLWrapper, POST\n",
    "\n",
    "# SPARQL endpoint URL\n",
    "sparql = SPARQLWrapper(\"http://64.225.134.139:9999/Strabon/Update\")\n",
    "#sparql.setHTTPAuth(BASIC)\n",
    "sparql.setCredentials(\"endpoint\", \"endpoint\")\n",
    "sparql.setMethod(POST)\n",
    "\n",
    "# Set authentication credentials\n",
    "\n",
    "\n",
    "# Set the method to POST\n",
    "sparql.setMethod(POST)\n",
    "\n",
    "# Define the INSERT query to insert a triple\n",
    "query = \"\"\"\n",
    "    @PREFIX ex: <http://example.com/>\n",
    "    INSERT DATA {\n",
    "        ex:subject ex:predicate \"Hello, RDF!\" .\n",
    "    }\n",
    "\"\"\"\n",
    "quere_delete = \"\"\"DELETE WHERE {?s ?p ?o}\"\"\"\n",
    "\n",
    "# Set the query text and format\n",
    "sparql.setQuery(query)\n",
    "sparql.setReturnFormat(JSON)\n",
    "\n",
    "# Execute the query\n",
    "try:\n",
    "    response = sparql.query()\n",
    "    print(\"Data uploaded successfully.\")\n",
    "except Exception as e:\n",
    "    print(\"Error uploading data:\", e)\n"
   ]
  },
  {
   "cell_type": "code",
   "execution_count": null,
   "id": "97981821-8085-4cd1-9df5-aa847a8db3a0",
   "metadata": {},
   "outputs": [],
   "source": []
  },
  {
   "cell_type": "code",
   "execution_count": null,
   "id": "ae018f64-ba9b-480b-92ab-518bf821161b",
   "metadata": {},
   "outputs": [],
   "source": []
  }
 ],
 "metadata": {
  "kernelspec": {
   "display_name": "aqqa",
   "language": "python",
   "name": "aqqa"
  },
  "language_info": {
   "codemirror_mode": {
    "name": "ipython",
    "version": 3
   },
   "file_extension": ".py",
   "mimetype": "text/x-python",
   "name": "python",
   "nbconvert_exporter": "python",
   "pygments_lexer": "ipython3",
   "version": "3.8.17"
  }
 },
 "nbformat": 4,
 "nbformat_minor": 5
}
