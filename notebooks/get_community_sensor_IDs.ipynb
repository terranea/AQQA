{
 "cells": [
  {
   "cell_type": "code",
   "execution_count": 1,
   "id": "b15927a2-3dc8-4b8a-8987-9fdca6fbb3ca",
   "metadata": {},
   "outputs": [],
   "source": [
    "import pandas as pd\n",
    "import requests\n",
    "import json"
   ]
  },
  {
   "cell_type": "code",
   "execution_count": 2,
   "id": "c46c8d7a-ab2b-4cfa-b1ff-797bcd1bf739",
   "metadata": {},
   "outputs": [],
   "source": [
    "sensor_type = \"SDS011\"\n",
    "countries = \"AT,DE\"\n",
    "bounding_box = (45.82, 50.65, 8.95, 17.22)"
   ]
  },
  {
   "cell_type": "code",
   "execution_count": 3,
   "id": "d41a5fe4",
   "metadata": {},
   "outputs": [],
   "source": [
    "\n",
    "query = f\"https://data.sensor.community/airrohr/v1/filter/country={countries}&type={sensor_type}\"\n",
    "response = requests.get(query)\n",
    "sensors_dict = json.loads(response.content.decode('utf-8'))"
   ]
  },
  {
   "cell_type": "code",
   "execution_count": 4,
   "id": "3ce99e08-69c3-4bf2-85bf-1224946a0829",
   "metadata": {},
   "outputs": [],
   "source": [
    "sensors_of_interest = [{\"sensor_id\": sensor_measurement[\"sensor\"][\"id\"], \n",
    "                        \"lon\": sensor_measurement[\"location\"][\"longitude\"], \n",
    "                        \"lat\": sensor_measurement[\"location\"][\"latitude\"]} for sensor_measurement in sensors_dict]\n",
    "sensors_df = pd.DataFrame(sensors_of_interest)\n",
    "sensors_df[\"lon\"] = sensors_df[\"lon\"].astype(\"float\")\n",
    "sensors_df[\"lat\"] = sensors_df[\"lat\"].astype(\"float\")"
   ]
  },
  {
   "cell_type": "code",
   "execution_count": 5,
   "id": "fade252f",
   "metadata": {},
   "outputs": [],
   "source": [
    "def filter_dataframe_by_bounding_box(df, lat1, lat2, lon1, lon2):\n",
    "    return df[(df['lon'] >= lon1) & (df['lon'] <= lon2) & (df['lat'] >= lat1) & (df['lat'] <= lat2)]"
   ]
  },
  {
   "cell_type": "code",
   "execution_count": 6,
   "id": "283a9ffa",
   "metadata": {},
   "outputs": [],
   "source": [
    "lat1, lat2, lon1, lon2 = bounding_box\n",
    "sensor_df_bb = filter_dataframe_by_bounding_box(sensors_df, lat1, lat2, lon1, lon2)"
   ]
  },
  {
   "cell_type": "code",
   "execution_count": 7,
   "id": "f438c6d1-b9a8-4b54-9305-e6e050456419",
   "metadata": {},
   "outputs": [],
   "source": [
    "sensor_df_bb.to_csv(\"/mnt/data/Sensor_Community/sensor_community_ids_test.csv\")"
   ]
  }
 ],
 "metadata": {
  "kernelspec": {
   "display_name": "aqqa",
   "language": "python",
   "name": "python3"
  },
  "language_info": {
   "codemirror_mode": {
    "name": "ipython",
    "version": 3
   },
   "file_extension": ".py",
   "mimetype": "text/x-python",
   "name": "python",
   "nbconvert_exporter": "python",
   "pygments_lexer": "ipython3",
   "version": "3.8.17"
  }
 },
 "nbformat": 4,
 "nbformat_minor": 5
}
