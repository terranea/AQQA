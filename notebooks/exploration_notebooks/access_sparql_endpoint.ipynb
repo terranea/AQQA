{
 "cells": [
  {
   "cell_type": "code",
   "execution_count": 8,
   "id": "89dba320-7c7a-40f1-9172-fd7339e78af7",
   "metadata": {},
   "outputs": [],
   "source": [
    "from SPARQLWrapper import SPARQLWrapper, JSON,  POST, DIGEST, BASIC"
   ]
  },
  {
   "cell_type": "code",
   "execution_count": null,
   "id": "ed4ff5bc-1dad-4e57-9344-5b872cbfc465",
   "metadata": {},
   "outputs": [],
   "source": []
  },
  {
   "cell_type": "markdown",
   "id": "df8c9201-e1a1-459d-8454-57a027bd8550",
   "metadata": {},
   "source": [
    "### Query "
   ]
  },
  {
   "cell_type": "code",
   "execution_count": 10,
   "id": "507320d6-2c7b-4f2c-a414-aa899bdebc51",
   "metadata": {},
   "outputs": [
    {
     "name": "stdout",
     "output_type": "stream",
     "text": [
      "b'\\n\\n<!DOCTYPE html PUBLIC \"-//W3C//DTD HTML 4.01 Transitional//EN\" \"http://www.w3.org/TR/html4/loose.dtd\">\\n<html>\\n\\t<head>\\n\\t\\t<meta name=\"viewport\" content=\"initial-scale=1.0, user-scalable=no\" />\\n\\t\\t<link rel=\"stylesheet\" href=\"style.css\" type=\"text/css\" />\\n\\t\\t \\n\\t\\t<script type=\"text/javascript\">\\n\\t\\t\\tfunction toggleMe(a) {\\n\\t\\t\\t\\tvar e = document.getElementById(a);\\n\\t\\t\\t\\tif (!e) {\\n\\t\\t\\t\\t\\treturn true;\\n\\t\\t\\t\\t}\\n\\t\\t\\t\\tif (e.style.display == \"none\") {\\n\\t\\t\\t\\t\\te.style.display = \"block\";\\n\\t\\t\\t\\t} else {\\n\\t\\t\\t\\t\\te.style.display = \"none\";\\n\\t\\t\\t\\t}\\n\\t\\t\\t\\treturn true;\\n\\t\\t\\t}\\n\\t\\t</script>\\n\\t\\t\\n\\t\\t<style type=\"text/css\">\\n\\t\\t/*demo page css*/\\n\\t\\tbody{ font: 90% \"Trebuchet MS\", sans-serif; margin: 50px;}\\n\\t\\t.container { height:410px; width:165px;}\\n\\t\\t.demoHeaders { margin-top: 1em;}\\n\\t\\t#dialog_link {padding: .4em 1em .4em 20px;text-decoration: none;position: relative;}\\n\\t\\t#dialog_link span.ui-icon {margin: 0 5px 0 0;position: absolute;left: .2em;top: 50%;margin-top: -8px;}\\n\\t\\tul#icons {margin: 0; padding: 0;}\\n\\t\\tul#icons li {margin: 1px; position: relative; padding: 1px 0; cursor: pointer; float: left;  list-style: none;}\\n\\t\\tul#icons span.ui-icon {float: left; margin: 0 1px;}\\n\\t\\t</style>\\n\\t\\t<title>Strabon Endpoint</title>\\n\\t</head>\\n<body topmargin=\"0\" leftmargin=\"0\" link=\"#FFFFFF\" vlink=\"#FFFFFF\" alink=\"#FFFFFF\">\\n\\n<!-- include TELEIOS header and description -->\\n<meta http-equiv=\\'Content-Type\\' content=\\'text/html; charset=UTF-8\\' />\\n<TABLE width=\"100%\" BORDER=0 CELLPADDING=0 CELLSPACING=0>\\n\\t<TR>\\n      <TD height=\"1\"></TD>\\n\\t</TR>\\t\\t\\n\\t<TR>\\n      <TD height=\"60\"> \\n        <table width=\"100%\" border=0>\\n         <tr>\\n            <td width=\"1\">&nbsp;</td>\\n            <td valign=\"top\" width=\"50px\"><a href=\"http://en.uoa.gr\"><img border=\"0\" src=\"images/uoa_logo.png\" /></a></td>\\n            <td valign=\"middle\" align=\"left\">\\n            <span class=\"logo\"><a href=\"query.jsp\">&nbsp;stSPARQL Endpoint</a></span><br><span class=\"style4\"></span></td>\\n          </tr>\\n        </table>\\n      </TD>\\n\\t</TR>\\n\\t<TR>\\n      <TD height=\"50\" id=\"intro\">\\n<p> On this page you can execute stSPARQL queries against the Strabon backend.\\n<!--  <a onclick=\"return toggleMe(\\'par\\')\">(More)</a>  -->\\n<!--\\nIn this context NOA has been developing a real-time fire hotspot detection service for effectively monitoring \\na fire-front. The technique is based on the use of acquisitions originating from the SEVURI  sensor, on top of MSG-1 and MSG-2 satellite platforms.\\n-->\\n<!-- Since 2007, NOA operates an MSG/SEVURI acquisition station, and has been systematically\\narchiving raw satellite images on a 5 and 15 minutes basis, the respective temporal resolutions of MSG-1 and MSG-2.  -->\\nThe acquired data are then annotated using the stRDF model and can be queried using the stSPARQL query language.\\n \\nOn the left sidebar, some example stSPARQL queries to aquire information on the dataset, are provided. \\n<!--The NOA use case is described in more detail in the VLDB\\ndemo paper <a href=\"http://www.earthobservatory.eu/publications/p2010_manoliskoubarakis_vldb2012-2.pdf\">here</a>. \\n-->\\n</p> \\n      </TD>\\n\\t</TR>\\n</TABLE>\\n\\n<!-- include TELEIOS header and description -->\\n\\n<FORM method=POST enctype=\"UTF-8\" accept-charset=\"UTF-8\" action=\"DBConnect\">\\n<input type=\"hidden\" name=\"query\" value=\"SELECT * WHERE { ?s ?p ?o. } LIMIT 10\"/>\\n<input type=\"hidden\" name=\"handle\" value=\"null\"/>\\n<input type=\"hidden\" name=\"format\" value=\"json\"/>\\n<TABLE class=\"style4\">\\t\\n\\t\\n\\n\\t\\n\\t<tr>\\n\\t\\t<td colspan=2 id=\"output\">\\n\\t\\t\\t<div style=\"font-size:13px\"> \\n\\t\\t\\t\\tYou must be logged in to change configuration, or run in localhost.\\n\\t\\t\\t</div>\\n\\t\\t</td>\\t\\n\\t</tr>\\n\\t<TR> \\n\\t\\t<TD valign=\"top\" class=\"style4\">Database Name:</TD>\\n\\t\\t<TD><input type=\"text\" name=\"dbname\" value=\"endpoint\"/></TD>\\n\\t</TR>\\n\\t<TR> \\n\\t\\t<TD valign=\"top\" class=\"style4\">Username:</TD>\\n\\t\\t<TD><input type=\"text\" name=\"username\" value=\"endpoint\"/></TD>\\n\\t</TR>\\n\\t\\t<TR> \\n\\t\\t<TD valign=\"top\" class=\"style4\">Password:</TD>\\n\\t\\t<TD><input type=\"password\" name=\"password\" value=\"endpoint\"/></TD>\\n\\t</TR>\\n\\t<TR> \\n\\t\\t<TD valign=\"top\" class=\"style4\">Port:</TD>\\n\\t\\t<TD><input type=\"text\" name=\"port\" value=\"5432\"/></TD>\\n\\t</TR>\\n\\t<TR> \\n\\t\\t<TD valign=\"top\" class=\"style4\">Hostname:</TD>\\n\\t\\t<TD><input type=\"text\" name=\"hostname\" value=\"null\"/></TD>\\n\\t</TR>\\n\\t<TR> \\n\\t\\t<TD valign=\"top\" class=\"style4\">Database Backend:</TD>\\n\\t\\t<TD>\\n\\t\\t\\t<SELECT name=\"dbengine\">\\n\\t\\t\\t\\t<OPTION value=\"postgis\" selected>postgis</OPTION>\\n\\t\\t\\t\\t<OPTION value=\"monetdb\" >monetdb</OPTION>\\n\\t\\t\\t</SELECT>\\n\\t\\t</TD>\\n\\t</TR>\\n\\t<TR> \\n\\t\\t<TD valign=\"top\" class=\"style4\">Google Maps API Key:</TD>\\n\\t\\t<TD><input type=\"text\" name=\"googlemapskey\" value=\"null\"/></TD>\\n\\t</TR>\\n\\t<TR>\\n\\t\\t<TD colspan=2><input type=\"submit\" value=\"Connect\"/></TD>\\n\\t</TR>\\n</TABLE>\\n\\n</FORM>\\n<br/><br/><br/><br/><br/>\\n</BODY>\\n</HTML>'\n",
      "byte indices must be integers or slices, not str\n"
     ]
    }
   ],
   "source": [
    "endpoint_url = \"http://64.225.134.139:9999/Strabon/Query\"\n",
    "sparql = SPARQLWrapper(endpoint_url)\n",
    "\n",
    "queryString = \"SELECT * WHERE { ?s ?p ?o. } LIMIT 10\"\n",
    "\n",
    "sparql.setQuery(queryString)\n",
    "sparql.setReturnFormat(JSON)\n",
    "\n",
    "try:\n",
    "   # Execute the query and get the results\n",
    "   results = sparql.queryAndConvert()\n",
    "   for result in results[\"results\"][\"bindings\"]:\n",
    "       print(result[\"s\"][\"value\"], )\n",
    "except Exception as e:\n",
    "    print(e)"
   ]
  },
  {
   "cell_type": "code",
   "execution_count": null,
   "id": "4b0ad2f6-e968-40e6-98c4-e6198199c17d",
   "metadata": {},
   "outputs": [],
   "source": []
  },
  {
   "cell_type": "markdown",
   "id": "14801638-91fa-443a-b872-71fef28a5d05",
   "metadata": {},
   "source": [
    "### Upload data"
   ]
  },
  {
   "cell_type": "code",
   "execution_count": 129,
   "id": "a17c2283-75dc-4360-9f6b-a3f307e40c05",
   "metadata": {},
   "outputs": [
    {
     "name": "stdout",
     "output_type": "stream",
     "text": [
      "Error uploading data: Unauthorized: Access to that endpoint is denied due to invalid credentials (unauthorized). Check the credentials. \n",
      "\n",
      "Response:\n",
      "b'<!doctype html><html lang=\"en\"><head><title>HTTP Status 401 \\xe2\\x80\\x93 Unauthorized</title><style type=\"text/css\">body {font-family:Tahoma,Arial,sans-serif;} h1, h2, h3, b {color:white;background-color:#525D76;} h1 {font-size:22px;} h2 {font-size:16px;} h3 {font-size:14px;} p {font-size:12px;} a {color:black;} .line {height:1px;background-color:#525D76;border:none;}</style></head><body><h1>HTTP Status 401 \\xe2\\x80\\x93 Unauthorized</h1><hr class=\"line\" /><p><b>Type</b> Status Report</p><p><b>Description</b> The request has not been applied because it lacks valid authentication credentials for the target resource.</p><hr class=\"line\" /><h3>Apache Tomcat/9.0.71</h3></body></html>'\n"
     ]
    }
   ],
   "source": [
    "from SPARQLWrapper import SPARQLWrapper, POST\n",
    "\n",
    "# SPARQL endpoint URL\n",
    "sparql = SPARQLWrapper(\"http://64.225.134.139:9999/Strabon/Update\")\n",
    "sparql.setHTTPAuth(DIGEST)\n",
    "sparql.setCredentials(\"endpoint\", \"endpoint\")\n",
    "sparql.setMethod(POST)\n",
    "\n",
    "# Set authentication credentials\n",
    "\n",
    "\n",
    "# Set the method to POST\n",
    "sparql.setMethod(POST)\n",
    "\n",
    "# Define the INSERT query to insert a triple\n",
    "query = \"\"\"\n",
    "    @PREFIX ex: <http://example.com/>\n",
    "    INSERT DATA {\n",
    "        ex:subject ex:predicate \"Hello, RDF!\" .\n",
    "    }\n",
    "\"\"\"\n",
    "quere_delete = \"\"\"DELETE WHERE {?s ?p ?o}\"\"\"\n",
    "\n",
    "# Set the query text and format\n",
    "sparql.setQuery(query)\n",
    "sparql.setReturnFormat(JSON)\n",
    "\n",
    "# Execute the query\n",
    "try:\n",
    "    response = sparql.query()\n",
    "    print(\"Data uploaded successfully.\")\n",
    "except Exception as e:\n",
    "    print(\"Error uploading data:\", e)\n"
   ]
  },
  {
   "cell_type": "code",
   "execution_count": null,
   "id": "97981821-8085-4cd1-9df5-aa847a8db3a0",
   "metadata": {},
   "outputs": [],
   "source": []
  },
  {
   "cell_type": "code",
   "execution_count": null,
   "id": "ae018f64-ba9b-480b-92ab-518bf821161b",
   "metadata": {},
   "outputs": [],
   "source": []
  }
 ],
 "metadata": {
  "kernelspec": {
   "display_name": "aqqa",
   "language": "python",
   "name": "aqqa"
  },
  "language_info": {
   "codemirror_mode": {
    "name": "ipython",
    "version": 3
   },
   "file_extension": ".py",
   "mimetype": "text/x-python",
   "name": "python",
   "nbconvert_exporter": "python",
   "pygments_lexer": "ipython3",
   "version": "3.8.17"
  }
 },
 "nbformat": 4,
 "nbformat_minor": 5
}
