{
 "cells": [
  {
   "cell_type": "code",
   "execution_count": 1,
   "id": "89dba320-7c7a-40f1-9172-fd7339e78af7",
   "metadata": {},
   "outputs": [],
   "source": [
    "from SPARQLWrapper import SPARQLWrapper, JSON,  POST, DIGEST, BASIC"
   ]
  },
  {
   "cell_type": "code",
   "execution_count": null,
   "id": "ed4ff5bc-1dad-4e57-9344-5b872cbfc465",
   "metadata": {},
   "outputs": [],
   "source": []
  },
  {
   "cell_type": "markdown",
   "id": "df8c9201-e1a1-459d-8454-57a027bd8550",
   "metadata": {},
   "source": [
    "### Query "
   ]
  },
  {
   "cell_type": "code",
   "execution_count": 3,
   "id": "507320d6-2c7b-4f2c-a414-aa899bdebc51",
   "metadata": {},
   "outputs": [
    {
     "name": "stdout",
     "output_type": "stream",
     "text": [
      "http://example.com/ontologies/aqqa#Cell_0_0_ts_2020-01-01_var_co\n",
      "http://example.com/ontologies/aqqa#Cell_0_0_ts_2020-01-01_var_no2\n",
      "http://example.com/ontologies/aqqa#Cell_0_0_ts_2020-01-01_var_o3\n",
      "http://example.com/ontologies/aqqa#Cell_0_0_ts_2020-01-01_var_pm10\n",
      "http://example.com/ontologies/aqqa#Cell_0_0_ts_2020-01-01_var_pm2p5\n",
      "http://example.com/ontologies/aqqa#Cell_0_0_ts_2020-01-01_var_so2\n",
      "http://example.com/ontologies/aqqa#Cell_0_10_ts_2020-01-01_var_co\n",
      "http://example.com/ontologies/aqqa#Cell_0_10_ts_2020-01-01_var_no2\n",
      "http://example.com/ontologies/aqqa#Cell_0_10_ts_2020-01-01_var_o3\n",
      "http://example.com/ontologies/aqqa#Cell_0_10_ts_2020-01-01_var_pm10\n"
     ]
    }
   ],
   "source": [
    "endpoint_url = \"http://64.225.128.92:9999/Strabon/Query\"\n",
    "sparql = SPARQLWrapper(endpoint_url)\n",
    "\n",
    "queryString = \"SELECT * WHERE { ?s ?p ?o. } LIMIT 10\"\n",
    "\n",
    "sparql.setQuery(queryString)\n",
    "sparql.setReturnFormat(JSON)\n",
    "\n",
    "try:\n",
    "   # Execute the query and get the results\n",
    "   results = sparql.queryAndConvert()\n",
    "   for result in results[\"results\"][\"bindings\"]:\n",
    "       print(result[\"s\"][\"value\"], )\n",
    "except Exception as e:\n",
    "    print(e)"
   ]
  },
  {
   "cell_type": "code",
   "execution_count": null,
   "id": "4b0ad2f6-e968-40e6-98c4-e6198199c17d",
   "metadata": {},
   "outputs": [],
   "source": []
  },
  {
   "cell_type": "markdown",
   "id": "14801638-91fa-443a-b872-71fef28a5d05",
   "metadata": {},
   "source": [
    "### Upload data"
   ]
  },
  {
   "cell_type": "code",
   "execution_count": 129,
   "id": "a17c2283-75dc-4360-9f6b-a3f307e40c05",
   "metadata": {},
   "outputs": [
    {
     "name": "stdout",
     "output_type": "stream",
     "text": [
      "Error uploading data: Unauthorized: Access to that endpoint is denied due to invalid credentials (unauthorized). Check the credentials. \n",
      "\n",
      "Response:\n",
      "b'<!doctype html><html lang=\"en\"><head><title>HTTP Status 401 \\xe2\\x80\\x93 Unauthorized</title><style type=\"text/css\">body {font-family:Tahoma,Arial,sans-serif;} h1, h2, h3, b {color:white;background-color:#525D76;} h1 {font-size:22px;} h2 {font-size:16px;} h3 {font-size:14px;} p {font-size:12px;} a {color:black;} .line {height:1px;background-color:#525D76;border:none;}</style></head><body><h1>HTTP Status 401 \\xe2\\x80\\x93 Unauthorized</h1><hr class=\"line\" /><p><b>Type</b> Status Report</p><p><b>Description</b> The request has not been applied because it lacks valid authentication credentials for the target resource.</p><hr class=\"line\" /><h3>Apache Tomcat/9.0.71</h3></body></html>'\n"
     ]
    }
   ],
   "source": [
    "from SPARQLWrapper import SPARQLWrapper, POST\n",
    "\n",
    "# SPARQL endpoint URL\n",
    "sparql = SPARQLWrapper(\"http://64.225.134.139:9999/Strabon/Update\")\n",
    "sparql.setHTTPAuth(DIGEST)\n",
    "sparql.setCredentials(\"endpoint\", \"endpoint\")\n",
    "sparql.setMethod(POST)\n",
    "\n",
    "# Set authentication credentials\n",
    "\n",
    "\n",
    "# Set the method to POST\n",
    "sparql.setMethod(POST)\n",
    "\n",
    "# Define the INSERT query to insert a triple\n",
    "query = \"\"\"\n",
    "    @PREFIX ex: <http://example.com/>\n",
    "    INSERT DATA {\n",
    "        ex:subject ex:predicate \"Hello, RDF!\" .\n",
    "    }\n",
    "\"\"\"\n",
    "quere_delete = \"\"\"DELETE WHERE {?s ?p ?o}\"\"\"\n",
    "\n",
    "# Set the query text and format\n",
    "sparql.setQuery(query)\n",
    "sparql.setReturnFormat(JSON)\n",
    "\n",
    "# Execute the query\n",
    "try:\n",
    "    response = sparql.query()\n",
    "    print(\"Data uploaded successfully.\")\n",
    "except Exception as e:\n",
    "    print(\"Error uploading data:\", e)\n"
   ]
  },
  {
   "cell_type": "code",
   "execution_count": null,
   "id": "97981821-8085-4cd1-9df5-aa847a8db3a0",
   "metadata": {},
   "outputs": [],
   "source": []
  },
  {
   "cell_type": "code",
   "execution_count": null,
   "id": "ae018f64-ba9b-480b-92ab-518bf821161b",
   "metadata": {},
   "outputs": [],
   "source": []
  }
 ],
 "metadata": {
  "kernelspec": {
   "display_name": "aqqa",
   "language": "python",
   "name": "python3"
  },
  "language_info": {
   "codemirror_mode": {
    "name": "ipython",
    "version": 3
   },
   "file_extension": ".py",
   "mimetype": "text/x-python",
   "name": "python",
   "nbconvert_exporter": "python",
   "pygments_lexer": "ipython3",
   "version": "3.8.17"
  }
 },
 "nbformat": 4,
 "nbformat_minor": 5
}
