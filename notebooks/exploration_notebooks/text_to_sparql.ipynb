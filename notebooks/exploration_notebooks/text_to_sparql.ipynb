{
 "cells": [
  {
   "cell_type": "code",
   "execution_count": 1,
   "id": "1f4f7cc4",
   "metadata": {},
   "outputs": [],
   "source": [
    "%load_ext autoreload\n",
    "%autoreload 2"
   ]
  },
  {
   "cell_type": "code",
   "execution_count": 2,
   "id": "fcc1f486-6fb0-4b55-8bf4-b91ec6789735",
   "metadata": {},
   "outputs": [],
   "source": [
    "from SPARQLWrapper import SPARQLWrapper, JSON\n",
    "from rdflib import Graph\n",
    "import folium\n",
    "from shapely import wkt"
   ]
  },
  {
   "cell_type": "code",
   "execution_count": 3,
   "id": "6f3ce81a-63a9-4790-9b4d-ecb2ff99ebfd",
   "metadata": {},
   "outputs": [],
   "source": [
    "#endpoint_url = \"http://64.225.134.139:9999/Strabon/Query\"\n",
    "#sparql = SPARQLWrapper(endpoint_url)"
   ]
  },
  {
   "cell_type": "code",
   "execution_count": 4,
   "id": "be743559-7af4-4b9f-8829-f6c27a6cb33f",
   "metadata": {},
   "outputs": [
    {
     "data": {
      "text/plain": [
       "<Graph identifier=Ndbd18ed6d1424ef98de8f059aaadde07 (<class 'rdflib.graph.Graph'>)>"
      ]
     },
     "execution_count": 4,
     "metadata": {},
     "output_type": "execute_result"
    }
   ],
   "source": [
    "graph = Graph()\n",
    "\n",
    "# specify path to datasets\n",
    "path_to_gadm_aut = \"/mnt/data/GADM/RDF/gadm_AUT_RDF_population.ttl\"\n",
    "path_to_gadm_deu = \"/mnt/data/GADM/RDF/gadm_DEU_RDF_population.ttl\"\n",
    "path_to_cams_obs = \"/mnt/data/CAMS/RDF/observations/2020/01/cams_aq_2020_01_co.ttl\"\n",
    "path_to_obs_props = \"/mnt/data/AQ_observable_properties.ttl\"\n",
    "path_to_cams_ref_raster = \"/mnt/data/CAMS/RDF/CAMS_reference_grid_gadm_connections.ttl\"\n",
    "\n",
    "graph.parse(path_to_gadm_aut, format='ttl')\n",
    "graph.parse(path_to_gadm_deu, format='ttl')\n",
    "graph.parse(path_to_cams_obs, format='ttl')\n",
    "graph.parse(path_to_obs_props, format='ttl')\n",
    "graph.parse(path_to_cams_ref_raster, format='ttl')"
   ]
  },
  {
   "cell_type": "code",
   "execution_count": 60,
   "id": "dbd6b1c4",
   "metadata": {},
   "outputs": [],
   "source": [
    "# read sparql query\n",
    "path_to_sparql_query = \"../../scripts/sparql_queries/get_pop_affected_by_treshold_exceedance.ttl\"\n",
    "with open(path_to_sparql_query, 'r') as query_file:\n",
    "    query_string = query_file.read()"
   ]
  },
  {
   "cell_type": "code",
   "execution_count": null,
   "id": "9ff5bba7",
   "metadata": {},
   "outputs": [],
   "source": []
  },
  {
   "cell_type": "code",
   "execution_count": null,
   "id": "2c6dcd72",
   "metadata": {},
   "outputs": [],
   "source": []
  },
  {
   "cell_type": "code",
   "execution_count": 99,
   "id": "e8df8d70",
   "metadata": {},
   "outputs": [],
   "source": [
    "query_string = \"\"\"\n",
    "PREFIX sosa: <http://www.w3.org/ns/sosa/>\n",
    "PREFIX geo: <http://www.opengis.net/ont/geosparql#> \n",
    "PREFIX gadm: <http://example.com/ontologies/gadm#>\n",
    "\n",
    "SELECT ?gadm_name ?obs_result ?obs_time \n",
    "WHERE {\n",
    "    {\n",
    "        SELECT ?foi_ent ?cell_geom ?gadm_name\n",
    "        WHERE {\n",
    "            ?foi_ent a sosa:FeatureOfInterest ;\n",
    "                geo:intersects ?gadm_ent ;\n",
    "                geo:hasGeometry ?cell_geom_ent .\n",
    "            ?cell_geom_ent geo:asWKT ?cell_geom .\n",
    "            ?gadm_ent a gadm:AdministrativeUnit ;\n",
    "                gadm:hasName ?gadm_name;\n",
    "                gadm:hasNationalLevel 3 ;\n",
    "        } \n",
    "    }\n",
    "\n",
    "    ?obs_ent a sosa:Observation ;\n",
    "            sosa:hasSimpleResult ?obs_result ; \n",
    "            sosa:resultTime ?obs_time ;\n",
    "            sosa:hasFeatureOfInterest ?foi_ent ;\n",
    "            sosa:observedProperty ?obs_prop_ent .\n",
    "    ?obs_prop_ent a sosa:ObservableProperty ;\n",
    "        rdfs:label \"O3\" .\n",
    "\n",
    "    FILTER (YEAR(?obs_time) = 2020 && MONTH(?obs_time) >= 1 && MONTH(?obs_time) <= 1)\n",
    "    FILTER (?obs_result > 1)\n",
    "} LIMIT 1\n",
    "\"\"\""
   ]
  },
  {
   "cell_type": "code",
   "execution_count": 100,
   "id": "103ffa3a-d93e-4220-ba2e-84ffb3abe01d",
   "metadata": {},
   "outputs": [
    {
     "ename": "KeyboardInterrupt",
     "evalue": "",
     "output_type": "error",
     "traceback": [
      "\u001b[0;31m---------------------------------------------------------------------------\u001b[0m",
      "\u001b[0;31mKeyboardInterrupt\u001b[0m                         Traceback (most recent call last)",
      "Cell \u001b[0;32mIn[100], line 2\u001b[0m\n\u001b[1;32m      1\u001b[0m data \u001b[39m=\u001b[39m []\n\u001b[0;32m----> 2\u001b[0m \u001b[39mfor\u001b[39;00m row \u001b[39min\u001b[39;00m graph\u001b[39m.\u001b[39mquery(query_string):\n\u001b[1;32m      3\u001b[0m     \u001b[39m#obs_result, obs_time, gadm_name, pop = row\u001b[39;00m\n\u001b[1;32m      4\u001b[0m     \u001b[39m#print(obs_result, obs_time, gadm_name, pop)\u001b[39;00m\n\u001b[1;32m      5\u001b[0m     \u001b[39mprint\u001b[39m(row)\n",
      "File \u001b[0;32m/opt/conda/envs/aqqa/lib/python3.8/site-packages/rdflib/query.py:373\u001b[0m, in \u001b[0;36mResult.__iter__\u001b[0;34m(self)\u001b[0m\n\u001b[1;32m    369\u001b[0m \u001b[39melif\u001b[39;00m \u001b[39mself\u001b[39m\u001b[39m.\u001b[39mtype \u001b[39m==\u001b[39m \u001b[39m\"\u001b[39m\u001b[39mSELECT\u001b[39m\u001b[39m\"\u001b[39m:\n\u001b[1;32m    370\u001b[0m     \u001b[39m# this iterates over ResultRows of variable bindings\u001b[39;00m\n\u001b[1;32m    372\u001b[0m     \u001b[39mif\u001b[39;00m \u001b[39mself\u001b[39m\u001b[39m.\u001b[39m_genbindings:\n\u001b[0;32m--> 373\u001b[0m         \u001b[39mfor\u001b[39;00m b \u001b[39min\u001b[39;00m \u001b[39mself\u001b[39m\u001b[39m.\u001b[39m_genbindings:\n\u001b[1;32m    374\u001b[0m             \u001b[39mif\u001b[39;00m b:  \u001b[39m# don't add a result row in case of empty binding {}\u001b[39;00m\n\u001b[1;32m    375\u001b[0m                 \u001b[39mself\u001b[39m\u001b[39m.\u001b[39m_bindings\u001b[39m.\u001b[39mappend(b)\n",
      "File \u001b[0;32m/opt/conda/envs/aqqa/lib/python3.8/site-packages/rdflib/plugins/sparql/evaluate.py:562\u001b[0m, in \u001b[0;36m<genexpr>\u001b[0;34m(.0)\u001b[0m\n\u001b[1;32m    560\u001b[0m \u001b[39mdef\u001b[39;00m \u001b[39mevalProject\u001b[39m(ctx: QueryContext, project: CompValue):\n\u001b[1;32m    561\u001b[0m     res \u001b[39m=\u001b[39m evalPart(ctx, project\u001b[39m.\u001b[39mp)\n\u001b[0;32m--> 562\u001b[0m     \u001b[39mreturn\u001b[39;00m (row\u001b[39m.\u001b[39mproject(project\u001b[39m.\u001b[39mPV) \u001b[39mfor\u001b[39;00m row \u001b[39min\u001b[39;00m res)\n",
      "File \u001b[0;32m/opt/conda/envs/aqqa/lib/python3.8/site-packages/rdflib/plugins/sparql/evaluate.py:204\u001b[0m, in \u001b[0;36mevalFilter\u001b[0;34m(ctx, part)\u001b[0m\n\u001b[1;32m    200\u001b[0m \u001b[39mdef\u001b[39;00m \u001b[39mevalFilter\u001b[39m(\n\u001b[1;32m    201\u001b[0m     ctx: QueryContext, part: CompValue\n\u001b[1;32m    202\u001b[0m ) \u001b[39m-\u001b[39m\u001b[39m>\u001b[39m Generator[FrozenBindings, \u001b[39mNone\u001b[39;00m, \u001b[39mNone\u001b[39;00m]:\n\u001b[1;32m    203\u001b[0m     \u001b[39m# TODO: Deal with dict returned from evalPart!\u001b[39;00m\n\u001b[0;32m--> 204\u001b[0m     \u001b[39mfor\u001b[39;00m c \u001b[39min\u001b[39;00m evalPart(ctx, part\u001b[39m.\u001b[39mp):\n\u001b[1;32m    205\u001b[0m         \u001b[39mif\u001b[39;00m _ebv(\n\u001b[1;32m    206\u001b[0m             part\u001b[39m.\u001b[39mexpr,\n\u001b[1;32m    207\u001b[0m             c\u001b[39m.\u001b[39mforget(ctx, _except\u001b[39m=\u001b[39mpart\u001b[39m.\u001b[39m_vars) \u001b[39mif\u001b[39;00m \u001b[39mnot\u001b[39;00m part\u001b[39m.\u001b[39mno_isolated_scope \u001b[39melse\u001b[39;00m c,\n\u001b[1;32m    208\u001b[0m         ):\n\u001b[1;32m    209\u001b[0m             \u001b[39myield\u001b[39;00m c\n",
      "File \u001b[0;32m/opt/conda/envs/aqqa/lib/python3.8/site-packages/rdflib/plugins/sparql/evaluate.py:144\u001b[0m, in \u001b[0;36mevalLazyJoin\u001b[0;34m(ctx, join)\u001b[0m\n\u001b[1;32m    142\u001b[0m \u001b[39mfor\u001b[39;00m a \u001b[39min\u001b[39;00m evalPart(ctx, join\u001b[39m.\u001b[39mp1):\n\u001b[1;32m    143\u001b[0m     c \u001b[39m=\u001b[39m ctx\u001b[39m.\u001b[39mthaw(a)\n\u001b[0;32m--> 144\u001b[0m     \u001b[39mfor\u001b[39;00m b \u001b[39min\u001b[39;00m evalPart(c, join\u001b[39m.\u001b[39mp2):\n\u001b[1;32m    145\u001b[0m         \u001b[39myield\u001b[39;00m b\u001b[39m.\u001b[39mmerge(a)\n",
      "File \u001b[0;32m/opt/conda/envs/aqqa/lib/python3.8/site-packages/rdflib/plugins/sparql/evaluate.py:112\u001b[0m, in \u001b[0;36mevalBGP\u001b[0;34m(ctx, bgp)\u001b[0m\n\u001b[1;32m    109\u001b[0m \u001b[39mexcept\u001b[39;00m AlreadyBound:\n\u001b[1;32m    110\u001b[0m     \u001b[39mcontinue\u001b[39;00m\n\u001b[0;32m--> 112\u001b[0m \u001b[39mfor\u001b[39;00m x \u001b[39min\u001b[39;00m evalBGP(c, bgp[\u001b[39m1\u001b[39m:]):\n\u001b[1;32m    113\u001b[0m     \u001b[39myield\u001b[39;00m x\n",
      "File \u001b[0;32m/opt/conda/envs/aqqa/lib/python3.8/site-packages/rdflib/plugins/sparql/evaluate.py:88\u001b[0m, in \u001b[0;36mevalBGP\u001b[0;34m(ctx, bgp)\u001b[0m\n\u001b[1;32m     84\u001b[0m _o \u001b[39m=\u001b[39m ctx[o]\n\u001b[1;32m     86\u001b[0m \u001b[39m# type error: Item \"None\" of \"Optional[Graph]\" has no attribute \"triples\"\u001b[39;00m\n\u001b[1;32m     87\u001b[0m \u001b[39m# type Argument 1 to \"triples\" of \"Graph\" has incompatible type \"Tuple[Union[str, Path, None], Union[str, Path, None], Union[str, Path, None]]\"; expected \"Tuple[Optional[Node], Optional[Node], Optional[Node]]\"\u001b[39;00m\n\u001b[0;32m---> 88\u001b[0m \u001b[39mfor\u001b[39;00m ss, sp, so \u001b[39min\u001b[39;00m ctx\u001b[39m.\u001b[39mgraph\u001b[39m.\u001b[39mtriples((_s, _p, _o)):  \u001b[39m# type: ignore[union-attr, arg-type]\u001b[39;00m\n\u001b[1;32m     89\u001b[0m     \u001b[39mif\u001b[39;00m \u001b[39mNone\u001b[39;00m \u001b[39min\u001b[39;00m (_s, _p, _o):\n\u001b[1;32m     90\u001b[0m         c \u001b[39m=\u001b[39m ctx\u001b[39m.\u001b[39mpush()\n",
      "File \u001b[0;32m/opt/conda/envs/aqqa/lib/python3.8/site-packages/rdflib/graph.py:592\u001b[0m, in \u001b[0;36mGraph.triples\u001b[0;34m(self, triple)\u001b[0m\n\u001b[1;32m    590\u001b[0m         \u001b[39myield\u001b[39;00m _s, p, _o\n\u001b[1;32m    591\u001b[0m \u001b[39melse\u001b[39;00m:\n\u001b[0;32m--> 592\u001b[0m     \u001b[39mfor\u001b[39;00m (_s, _p, _o), cg \u001b[39min\u001b[39;00m \u001b[39mself\u001b[39m\u001b[39m.\u001b[39m__store\u001b[39m.\u001b[39mtriples((s, p, o), context\u001b[39m=\u001b[39m\u001b[39mself\u001b[39m):\n\u001b[1;32m    593\u001b[0m         \u001b[39myield\u001b[39;00m _s, _p, _o\n",
      "File \u001b[0;32m/opt/conda/envs/aqqa/lib/python3.8/site-packages/rdflib/plugins/stores/memory.py:493\u001b[0m, in \u001b[0;36mMemory.triples\u001b[0;34m(self, triple_pattern, context)\u001b[0m\n\u001b[1;32m    491\u001b[0m \u001b[39mif\u001b[39;00m object_ \u001b[39mis\u001b[39;00m \u001b[39mnot\u001b[39;00m \u001b[39mNone\u001b[39;00m:  \u001b[39m# predicate+object is given, subject unbound\u001b[39;00m\n\u001b[1;32m    492\u001b[0m     \u001b[39mif\u001b[39;00m object_ \u001b[39min\u001b[39;00m predicateDictionary:\n\u001b[0;32m--> 493\u001b[0m         \u001b[39mfor\u001b[39;00m s \u001b[39min\u001b[39;00m \u001b[39mlist\u001b[39m(predicateDictionary[object_]\u001b[39m.\u001b[39mkeys()):\n\u001b[1;32m    494\u001b[0m             triple \u001b[39m=\u001b[39m (s, predicate, object_)\n\u001b[1;32m    495\u001b[0m             \u001b[39mif\u001b[39;00m \u001b[39mself\u001b[39m\u001b[39m.\u001b[39m__triple_has_context(triple, req_ctx):\n",
      "File \u001b[0;32m/opt/conda/envs/aqqa/lib/python3.8/site-packages/rdflib/term.py:1256\u001b[0m, in \u001b[0;36mLiteral.__hash__\u001b[0;34m(self)\u001b[0m\n\u001b[1;32m   1227\u001b[0m \u001b[39m\"\"\"\u001b[39;00m\n\u001b[1;32m   1228\u001b[0m \u001b[39m>>> from rdflib.namespace import XSD\u001b[39;00m\n\u001b[1;32m   1229\u001b[0m \u001b[39m>>> a = {Literal('1', datatype=XSD.integer):'one'}\u001b[39;00m\n\u001b[0;32m   (...)\u001b[0m\n\u001b[1;32m   1253\u001b[0m \n\u001b[1;32m   1254\u001b[0m \u001b[39m\"\"\"\u001b[39;00m\n\u001b[1;32m   1255\u001b[0m \u001b[39m# don't use super()... for efficiency reasons, see Identifier.__hash__\u001b[39;00m\n\u001b[0;32m-> 1256\u001b[0m res \u001b[39m=\u001b[39m \u001b[39mstr\u001b[39;49m\u001b[39m.\u001b[39m\u001b[39m__hash__\u001b[39m(\u001b[39mself\u001b[39m)\n\u001b[1;32m   1257\u001b[0m \u001b[39m# Directly accessing the member is faster than the property.\u001b[39;00m\n\u001b[1;32m   1258\u001b[0m \u001b[39mif\u001b[39;00m \u001b[39mself\u001b[39m\u001b[39m.\u001b[39m_language:\n",
      "\u001b[0;31mKeyboardInterrupt\u001b[0m: "
     ]
    }
   ],
   "source": [
    "data = []\n",
    "for row in graph.query(query_string):\n",
    "    print(row)"
   ]
  },
  {
   "cell_type": "code",
   "execution_count": null,
   "id": "7c1fcfe2",
   "metadata": {},
   "outputs": [],
   "source": []
  },
  {
   "attachments": {},
   "cell_type": "markdown",
   "id": "b5610e48",
   "metadata": {},
   "source": [
    "#### Text to Sparql using GPT-turbo"
   ]
  },
  {
   "cell_type": "code",
   "execution_count": 77,
   "id": "e95765c0",
   "metadata": {},
   "outputs": [],
   "source": [
    "import os\n",
    "import openai"
   ]
  },
  {
   "cell_type": "code",
   "execution_count": 80,
   "id": "bfac11a8",
   "metadata": {},
   "outputs": [],
   "source": [
    "openai.api_key = os.environ[\"OPENAI_KEY\"]"
   ]
  },
  {
   "cell_type": "code",
   "execution_count": 81,
   "id": "4bccae90",
   "metadata": {},
   "outputs": [],
   "source": [
    "def get_completion(prompt, model=\"gpt-3.5-turbo\", temperature=0): \n",
    "    messages = [{\"role\": \"user\", \"content\": prompt}]\n",
    "    response = openai.ChatCompletion.create(\n",
    "        model=model,\n",
    "        messages=messages,\n",
    "        temperature=temperature, \n",
    "    )\n",
    "    return response.choices[0].message[\"content\"]"
   ]
  },
  {
   "cell_type": "code",
   "execution_count": 91,
   "id": "7b05aa65",
   "metadata": {},
   "outputs": [
    {
     "name": "stdout",
     "output_type": "stream",
     "text": [
      "<Sparql Query>: \n",
      "PREFIX sosa: <http://www.w3.org/ns/sosa/>\n",
      "PREFIX geo: <http://www.opengis.net/ont/geosparql#> \n",
      "PREFIX gadm: <http://example.com/ontologies/gadm#>\n",
      "\n",
      "SELECT ?gadm_name ?obs_result ?obs_time \n",
      "WHERE {\n",
      "    {\n",
      "        SELECT ?foi_ent ?cell_geom ?gadm_name?pop21\n",
      "        WHERE {\n",
      "            ?foi_ent a sosa:FeatureOfInterest ;\n",
      "                geo:intersects ?gadm_ent ;\n",
      "                geo:hasGeometry ?cell_geom_ent .\n",
      "            ?cell_geom_ent geo:asWKT ?cell_geom .\n",
      "            ?gadm_ent a gadm:AdministrativeUnit ;\n",
      "                gadm:hasName ?gadm_name;\n",
      "                gadm:hasNationalLevel 3 ;\n",
      "        } \n",
      "    }\n",
      "\n",
      "    ?obs_ent a sosa:Observation ;\n",
      "            sosa:hasSimpleResult ?obs_result ; \n",
      "            sosa:resultTime ?obs_time ;\n",
      "            sosa:hasFeatureOfInterest ?foi_ent ;\n",
      "            sosa:observedProperty ?obs_prop_ent .\n",
      "    ?obs_prop_ent a sosa:ObservableProperty ;\n",
      "        rdfs:label \"O3\" .\n",
      "\n",
      "    FILTER (YEAR(?obs_time) = 2020 && MONTH(?obs_time) >= 6 && MONTH(?obs_time) <= 8)\n",
      "    FILTER (?obs_result > 40)\n",
      "}\n"
     ]
    }
   ],
   "source": [
    "prompt = \"\"\"\n",
    "Your task is to transform natural language to a sparql query. \n",
    "There are the following labels for observable attributes: CO, NO2, O3, PM10, PM2P5 SO2\n",
    "The full names of those attributes are: carbon_monoxide nitrogen_dioxide ozone particulate_matter_10um particulate_matter_2.5um sulphur_dioxide\n",
    "For the query always the short version has to be used.\n",
    "If you are not sure if you can construct the sparql query, respond <I am sorry, but I cannot create a sparql query from this question>\n",
    "The structure of this query is purposely divided in subqueries to improve performance. Don't change this structure.\n",
    "\n",
    "<Natural Language>: What was the <observable attribute> concentration in <location name> for <month> <year>?\n",
    "\n",
    "<Sparql Query>: \n",
    "PREFIX sosa: <http://www.w3.org/ns/sosa/>\n",
    "PREFIX geo: <http://www.opengis.net/ont/geosparql#> \n",
    "PREFIX gadm: <http://example.com/ontologies/gadm#>\n",
    "\n",
    "SELECT ?obs_result ?obs_time ?foi_ent\n",
    "WHERE {\n",
    "    {\n",
    "        SELECT ?foi_ent\n",
    "        WHERE {\n",
    "            ?foi_ent a sosa:FeatureOfInterest ;\n",
    "                geo:intersects ?gadm_ent .\n",
    "            ?gadm_ent a gadm:AdministrativeUnit ;\n",
    "                gadm:hasName <location name> ;\n",
    "                gadm:hasNationalLevel 3 ;\n",
    "        } \n",
    "    }\n",
    "\n",
    "    ?obs_ent a sosa:Observation ;\n",
    "            sosa:hasSimpleResult ?obs_result ; \n",
    "            sosa:resultTime ?obs_time ;\n",
    "            sosa:hasFeatureOfInterest ?foi_ent ;\n",
    "            sosa:observedProperty ?obs_prop_ent .\n",
    "    ?obs_prop_ent a sosa:ObservableProperty ;\n",
    "        rdfs:label <observable attribute e.g. PM10> .\n",
    "\n",
    "    FILTER (YEAR(?obs_time) = <year> && MONTH(?obs_time) = <mont>)\n",
    "\n",
    "<Natural Language>: Which municipalities exceeded the <observable attribute> threshold of <threshold value> for the year <year> and month <month>?\n",
    "\n",
    "<Sparql Query>: \n",
    "PREFIX sosa: <http://www.w3.org/ns/sosa/>\n",
    "PREFIX geo: <http://www.opengis.net/ont/geosparql#> \n",
    "PREFIX gadm: <http://example.com/ontologies/gadm#>\n",
    "\n",
    "SELECT ?gadm_name ?obs_result ?obs_time \n",
    "WHERE {\n",
    "    {\n",
    "        SELECT ?foi_ent ?cell_geom ?gadm_name\n",
    "        WHERE {\n",
    "            ?foi_ent a sosa:FeatureOfInterest ;\n",
    "                geo:intersects ?gadm_ent ;\n",
    "                geo:hasGeometry ?cell_geom_ent .\n",
    "            ?cell_geom_ent geo:asWKT ?cell_geom .\n",
    "            ?gadm_ent a gadm:AdministrativeUnit ;\n",
    "                gadm:hasName ?gadm_name;\n",
    "                gadm:hasNationalLevel 3 ;\n",
    "        } \n",
    "    }\n",
    "\n",
    "    ?obs_ent a sosa:Observation ;\n",
    "            sosa:hasSimpleResult ?obs_result ; \n",
    "            sosa:resultTime ?obs_time ;\n",
    "            sosa:hasFeatureOfInterest ?foi_ent ;\n",
    "            sosa:observedProperty ?obs_prop_ent .\n",
    "    ?obs_prop_ent a sosa:ObservableProperty ;\n",
    "        rdfs:label <observable attribute e.g. CO> .\n",
    "\n",
    "    FILTER (YEAR(?obs_time) = <year> && MONTH(?obs_time) = <month>)\n",
    "    FILTER (?obs_result > <threshold value>)\n",
    "}\n",
    "\n",
    "} \n",
    "\n",
    "<Natural Language>: List all observations where the ozone value was above 40 during summer 2020.\n",
    "\n",
    "\n",
    "\"\"\"\n",
    "response = get_completion(prompt)\n",
    "print(response)"
   ]
  },
  {
   "cell_type": "code",
   "execution_count": null,
   "id": "edee17db",
   "metadata": {},
   "outputs": [],
   "source": []
  }
 ],
 "metadata": {
  "kernelspec": {
   "display_name": "aqqa",
   "language": "python",
   "name": "python3"
  },
  "language_info": {
   "codemirror_mode": {
    "name": "ipython",
    "version": 3
   },
   "file_extension": ".py",
   "mimetype": "text/x-python",
   "name": "python",
   "nbconvert_exporter": "python",
   "pygments_lexer": "ipython3",
   "version": "3.8.17"
  }
 },
 "nbformat": 4,
 "nbformat_minor": 5
}
