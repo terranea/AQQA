{
 "cells": [
  {
   "cell_type": "code",
   "execution_count": 2,
   "id": "16fd493c-62c3-4573-9eb2-7bfd66ce2171",
   "metadata": {},
   "outputs": [],
   "source": [
    "from rdflib import Graph, Literal, Namespace, RDF, URIRef\n",
    "from rdflib.plugins.sparql import prepareQuery\n",
    "from rdflib.namespace import XSD"
   ]
  },
  {
   "cell_type": "code",
   "execution_count": 4,
   "id": "5af0fc48-ded3-4cd0-a20e-62405a7984f2",
   "metadata": {},
   "outputs": [
    {
     "data": {
      "text/plain": [
       "<Graph identifier=Ndb33c89e19514e1a96c580a444a6b58e (<class 'rdflib.graph.Graph'>)>"
      ]
     },
     "execution_count": 4,
     "metadata": {},
     "output_type": "execute_result"
    }
   ],
   "source": [
    "# Create an RDFLib graph\n",
    "g = Graph()\n",
    "\n",
    "# Parse and load the RDF data from a file, URL, or inline data\n",
    "rdf_data = \"\"\"\n",
    "@prefix ex: <http://example.org/>.\n",
    "\n",
    "ex:Individual1 ex:hasNationality \"USA\" .\n",
    "ex:Individual1 ex:hasAge 30 .\n",
    "\n",
    "ex:Individual2 ex:hasNationality \"USA\" .\n",
    "ex:Individual2 ex:hasAge 35 .\n",
    "\n",
    "ex:Individual3 ex:hasNationality \"Canada\" .\n",
    "ex:Individual3 ex:hasAge 28 .\n",
    "\n",
    "ex:Individual4 ex:hasNationality \"Canada\" .\n",
    "ex:Individual4 ex:hasAge 32 .\n",
    "\n",
    "ex:Individual5 ex:hasNationality \"Canada\" .\n",
    "ex:Individual5 ex:hasAge 29 .\n",
    "\"\"\"\n",
    "\n",
    "# Load the RDF data into the graph\n",
    "g.parse(data=rdf_data, format=\"turtle\")"
   ]
  },
  {
   "cell_type": "code",
   "execution_count": 7,
   "id": "b2c369ca-e90d-4c58-8b3a-d72cfb7af9c5",
   "metadata": {},
   "outputs": [
    {
     "name": "stdout",
     "output_type": "stream",
     "text": [
      "(rdflib.term.Literal('USA'), rdflib.term.Literal('32.5', datatype=rdflib.term.URIRef('http://www.w3.org/2001/XMLSchema#decimal')))\n",
      "(rdflib.term.Literal('Canada'), rdflib.term.Literal('29.66666666666666666666666667', datatype=rdflib.term.URIRef('http://www.w3.org/2001/XMLSchema#decimal')))\n"
     ]
    }
   ],
   "source": [
    "# Define an aggregation query using SPARQL\n",
    "query = prepareQuery(\"\"\"\n",
    "    PREFIX ex: <http://example.org/>\n",
    "    \n",
    "    SELECT ?nationality (AVG(?age) AS ?averageAge)\n",
    "    WHERE {\n",
    "      ?individual ex:hasNationality ?nationality ;\n",
    "                  ex:hasAge ?age .\n",
    "    }\n",
    "    GROUP BY ?nationality\n",
    "\"\"\", initNs={\"rdf\": RDF, \"ex\": ex})\n",
    "\n",
    "# Execute the aggregation query and print the result\n",
    "results = g.query(query)\n",
    "for row in results:\n",
    "    print(row)"
   ]
  },
  {
   "cell_type": "code",
   "execution_count": null,
   "id": "5c71176a-a890-4ee6-9d5a-a41e98d18f01",
   "metadata": {},
   "outputs": [],
   "source": []
  }
 ],
 "metadata": {
  "kernelspec": {
   "display_name": "aqqa",
   "language": "python",
   "name": "aqqa"
  },
  "language_info": {
   "codemirror_mode": {
    "name": "ipython",
    "version": 3
   },
   "file_extension": ".py",
   "mimetype": "text/x-python",
   "name": "python",
   "nbconvert_exporter": "python",
   "pygments_lexer": "ipython3",
   "version": "3.8.17"
  }
 },
 "nbformat": 4,
 "nbformat_minor": 5
}
