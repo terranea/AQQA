{
 "cells": [
  {
   "cell_type": "code",
   "execution_count": 1,
   "id": "1f4f7cc4",
   "metadata": {},
   "outputs": [],
   "source": [
    "%load_ext autoreload\n",
    "%autoreload 2"
   ]
  },
  {
   "cell_type": "code",
   "execution_count": 9,
   "id": "fcc1f486-6fb0-4b55-8bf4-b91ec6789735",
   "metadata": {},
   "outputs": [],
   "source": [
    "from SPARQLWrapper import SPARQLWrapper, JSON\n",
    "from rdflib import Graph\n",
    "import folium\n",
    "from shapely import wkt\n",
    "import os\n",
    "import openai"
   ]
  },
  {
   "cell_type": "code",
   "execution_count": 3,
   "id": "6f3ce81a-63a9-4790-9b4d-ecb2ff99ebfd",
   "metadata": {},
   "outputs": [],
   "source": [
    "#endpoint_url = \"http://64.225.134.139:9999/Strabon/Query\"\n",
    "#sparql = SPARQLWrapper(endpoint_url)"
   ]
  },
  {
   "cell_type": "code",
   "execution_count": 4,
   "id": "be743559-7af4-4b9f-8829-f6c27a6cb33f",
   "metadata": {},
   "outputs": [
    {
     "data": {
      "text/plain": [
       "<Graph identifier=N8d0cac09c9894edd954ebbf3dfaaf510 (<class 'rdflib.graph.Graph'>)>"
      ]
     },
     "execution_count": 4,
     "metadata": {},
     "output_type": "execute_result"
    }
   ],
   "source": [
    "graph = Graph()\n",
    "\n",
    "# specify path to datasets\n",
    "path_to_aqqa_kg = \"/mnt/data/AQQA_graph/AQQA_KG.ttl\"\n",
    "graph.parse(path_to_aqqa_kg, format='ttl')"
   ]
  },
  {
   "cell_type": "code",
   "execution_count": 28,
   "id": "dbd6b1c4",
   "metadata": {},
   "outputs": [],
   "source": [
    "# read sparql query\n",
    "path_to_sparql_query = \"../../scripts/sparql_queries/get_pop_affected_by_treshold_exceedance.ttl\"\n",
    "with open(path_to_sparql_query, 'r') as query_file:\n",
    "    query_string = query_file.read()"
   ]
  },
  {
   "cell_type": "code",
   "execution_count": 29,
   "id": "103ffa3a-d93e-4220-ba2e-84ffb3abe01d",
   "metadata": {},
   "outputs": [
    {
     "name": "stdout",
     "output_type": "stream",
     "text": [
      "(rdflib.term.URIRef('http://example.com/ontologies/gadm#AUT_1_1_10_2'), rdflib.term.Literal('Neufeld an der Leitha'), rdflib.term.Literal('3587', datatype=rdflib.term.URIRef('http://www.w3.org/2001/XMLSchema#integer')), rdflib.term.Literal('2020-01-02', datatype=rdflib.term.URIRef('http://www.w3.org/2001/XMLSchema#date')))\n",
      "(rdflib.term.URIRef('http://example.com/ontologies/gadm#AUT_1_1_10_2'), rdflib.term.Literal('Neufeld an der Leitha'), rdflib.term.Literal('3587', datatype=rdflib.term.URIRef('http://www.w3.org/2001/XMLSchema#integer')), rdflib.term.Literal('2020-01-14', datatype=rdflib.term.URIRef('http://www.w3.org/2001/XMLSchema#date')))\n",
      "(rdflib.term.URIRef('http://example.com/ontologies/gadm#AUT_1_1_10_2'), rdflib.term.Literal('Neufeld an der Leitha'), rdflib.term.Literal('3587', datatype=rdflib.term.URIRef('http://www.w3.org/2001/XMLSchema#integer')), rdflib.term.Literal('2020-01-15', datatype=rdflib.term.URIRef('http://www.w3.org/2001/XMLSchema#date')))\n",
      "(rdflib.term.URIRef('http://example.com/ontologies/gadm#AUT_1_1_10_2'), rdflib.term.Literal('Neufeld an der Leitha'), rdflib.term.Literal('3587', datatype=rdflib.term.URIRef('http://www.w3.org/2001/XMLSchema#integer')), rdflib.term.Literal('2020-01-24', datatype=rdflib.term.URIRef('http://www.w3.org/2001/XMLSchema#date')))\n",
      "(rdflib.term.URIRef('http://example.com/ontologies/gadm#AUT_1_1_10_2'), rdflib.term.Literal('Neufeld an der Leitha'), rdflib.term.Literal('3587', datatype=rdflib.term.URIRef('http://www.w3.org/2001/XMLSchema#integer')), rdflib.term.Literal('2020-01-27', datatype=rdflib.term.URIRef('http://www.w3.org/2001/XMLSchema#date')))\n",
      "(rdflib.term.URIRef('http://example.com/ontologies/gadm#AUT_1_1_10_2'), rdflib.term.Literal('Neufeld an der Leitha'), rdflib.term.Literal('3587', datatype=rdflib.term.URIRef('http://www.w3.org/2001/XMLSchema#integer')), rdflib.term.Literal('2020-01-02', datatype=rdflib.term.URIRef('http://www.w3.org/2001/XMLSchema#date')))\n",
      "(rdflib.term.URIRef('http://example.com/ontologies/gadm#AUT_1_1_10_2'), rdflib.term.Literal('Neufeld an der Leitha'), rdflib.term.Literal('3587', datatype=rdflib.term.URIRef('http://www.w3.org/2001/XMLSchema#integer')), rdflib.term.Literal('2020-01-13', datatype=rdflib.term.URIRef('http://www.w3.org/2001/XMLSchema#date')))\n",
      "(rdflib.term.URIRef('http://example.com/ontologies/gadm#AUT_1_1_10_2'), rdflib.term.Literal('Neufeld an der Leitha'), rdflib.term.Literal('3587', datatype=rdflib.term.URIRef('http://www.w3.org/2001/XMLSchema#integer')), rdflib.term.Literal('2020-01-14', datatype=rdflib.term.URIRef('http://www.w3.org/2001/XMLSchema#date')))\n",
      "(rdflib.term.URIRef('http://example.com/ontologies/gadm#AUT_1_1_10_2'), rdflib.term.Literal('Neufeld an der Leitha'), rdflib.term.Literal('3587', datatype=rdflib.term.URIRef('http://www.w3.org/2001/XMLSchema#integer')), rdflib.term.Literal('2020-01-15', datatype=rdflib.term.URIRef('http://www.w3.org/2001/XMLSchema#date')))\n",
      "(rdflib.term.URIRef('http://example.com/ontologies/gadm#AUT_1_1_10_2'), rdflib.term.Literal('Neufeld an der Leitha'), rdflib.term.Literal('3587', datatype=rdflib.term.URIRef('http://www.w3.org/2001/XMLSchema#integer')), rdflib.term.Literal('2020-01-24', datatype=rdflib.term.URIRef('http://www.w3.org/2001/XMLSchema#date')))\n"
     ]
    }
   ],
   "source": [
    "for row in graph.query(query_string):\n",
    "    print(row)"
   ]
  },
  {
   "cell_type": "code",
   "execution_count": null,
   "id": "7c1fcfe2",
   "metadata": {},
   "outputs": [],
   "source": []
  },
  {
   "attachments": {},
   "cell_type": "markdown",
   "id": "b5610e48",
   "metadata": {},
   "source": [
    "#### Text to Sparql using GPT-turbo"
   ]
  },
  {
   "cell_type": "code",
   "execution_count": 12,
   "id": "c719dd9d",
   "metadata": {},
   "outputs": [],
   "source": [
    "# set environment variable\n",
    "#os.environ[\"OPENAI_KEY\"] = \"<OPEN AI KEY>\""
   ]
  },
  {
   "cell_type": "code",
   "execution_count": 13,
   "id": "bfac11a8",
   "metadata": {},
   "outputs": [],
   "source": [
    "openai.api_key = os.environ[\"OPENAI_KEY\"]"
   ]
  },
  {
   "cell_type": "code",
   "execution_count": 14,
   "id": "4bccae90",
   "metadata": {},
   "outputs": [],
   "source": [
    "def get_completion(prompt, model=\"gpt-3.5-turbo\", temperature=0): \n",
    "    messages = [{\"role\": \"user\", \"content\": prompt}]\n",
    "    response = openai.ChatCompletion.create(\n",
    "        model=model,\n",
    "        messages=messages,\n",
    "        temperature=temperature, \n",
    "    )\n",
    "    return response.choices[0].message[\"content\"]"
   ]
  },
  {
   "cell_type": "code",
   "execution_count": 20,
   "id": "7b05aa65",
   "metadata": {},
   "outputs": [
    {
     "name": "stdout",
     "output_type": "stream",
     "text": [
      "<Sparql Query>: \n",
      "PREFIX sosa: <http://www.w3.org/ns/sosa/>\n",
      "PREFIX geo: <http://www.opengis.net/ont/geosparql#> \n",
      "PREFIX gadm: <http://example.com/ontologies/gadm#>\n",
      "\n",
      "SELECT ?obs_result ?obs_time ?foi_ent\n",
      "WHERE {\n",
      "    {\n",
      "        SELECT ?foi_ent\n",
      "        WHERE {\n",
      "            ?foi_ent a sosa:FeatureOfInterest ;\n",
      "                geo:intersects ?gadm_ent .\n",
      "            ?gadm_ent a gadm:AdministrativeUnit ;\n",
      "                gadm:hasName <location name> ;\n",
      "                gadm:hasNationalLevel 3 ;\n",
      "        } \n",
      "    }\n",
      "\n",
      "    ?obs_ent a sosa:Observation ;\n",
      "            sosa:hasSimpleResult ?obs_result ; \n",
      "            sosa:resultTime ?obs_time ;\n",
      "            sosa:hasFeatureOfInterest ?foi_ent ;\n",
      "            sosa:observedProperty ?obs_prop_ent .\n",
      "    ?obs_prop_ent a sosa:ObservableProperty ;\n",
      "        rdfs:label \"ozone\" .\n",
      "\n",
      "    FILTER (YEAR(?obs_time) = 2020 && MONTH(?obs_time) >= 6 && MONTH(?obs_time) <= 8)\n",
      "    FILTER (?obs_result > 40)\n",
      "}\n"
     ]
    }
   ],
   "source": [
    "prompt = \"\"\"\n",
    "Your task is to transform natural language to a sparql query. \n",
    "There are the following labels for observable attributes: CO, NO2, O3, PM10, PM2P5 SO2\n",
    "The full names of those attributes are: carbon_monoxide nitrogen_dioxide ozone particulate_matter_10um particulate_matter_2.5um sulphur_dioxide\n",
    "For the query always the short version has to be used.\n",
    "If you are not sure if you can construct the sparql query, respond <I am sorry, but I cannot create a sparql query from this question>\n",
    "The structure of this query is purposely divided in subqueries to improve performance. Don't change this structure.\n",
    "\n",
    "<Natural Language>: What was the <observable attribute> concentration in <location name> for <month> <year>?\n",
    "\n",
    "<Sparql Query>: \n",
    "PREFIX sosa: <http://www.w3.org/ns/sosa/>\n",
    "PREFIX geo: <http://www.opengis.net/ont/geosparql#> \n",
    "PREFIX gadm: <http://example.com/ontologies/gadm#>\n",
    "\n",
    "SELECT ?obs_result ?obs_time ?foi_ent\n",
    "WHERE {\n",
    "    {\n",
    "        SELECT ?foi_ent\n",
    "        WHERE {\n",
    "            ?foi_ent a sosa:FeatureOfInterest ;\n",
    "                geo:intersects ?gadm_ent .\n",
    "            ?gadm_ent a gadm:AdministrativeUnit ;\n",
    "                gadm:hasName <location name> ;\n",
    "                gadm:hasNationalLevel 3 ;\n",
    "        } \n",
    "    }\n",
    "\n",
    "    ?obs_ent a sosa:Observation ;\n",
    "            sosa:hasSimpleResult ?obs_result ; \n",
    "            sosa:resultTime ?obs_time ;\n",
    "            sosa:hasFeatureOfInterest ?foi_ent ;\n",
    "            sosa:observedProperty ?obs_prop_ent .\n",
    "    ?obs_prop_ent a sosa:ObservableProperty ;\n",
    "        rdfs:label <observable attribute e.g. PM10> .\n",
    "\n",
    "    FILTER (YEAR(?obs_time) = <year> && MONTH(?obs_time) = <mont>)\n",
    "\n",
    "<Natural Language>: Which municipalities exceeded the <observable attribute> threshold of <threshold value> for the year <year> and month <month>?\n",
    "\n",
    "<Sparql Query>: \n",
    "PREFIX sosa: <http://www.w3.org/ns/sosa/>\n",
    "PREFIX geo: <http://www.opengis.net/ont/geosparql#> \n",
    "PREFIX gadm: <http://example.com/ontologies/gadm#>\n",
    "\n",
    "SELECT ?gadm_name ?obs_result ?obs_time \n",
    "WHERE {\n",
    "    {\n",
    "        SELECT ?foi_ent ?cell_geom ?gadm_name\n",
    "        WHERE {\n",
    "            ?foi_ent a sosa:FeatureOfInterest ;\n",
    "                geo:intersects ?gadm_ent ;\n",
    "                geo:hasGeometry ?cell_geom_ent .\n",
    "            ?cell_geom_ent geo:asWKT ?cell_geom .\n",
    "            ?gadm_ent a gadm:AdministrativeUnit ;\n",
    "                gadm:hasName ?gadm_name;\n",
    "                gadm:hasNationalLevel 3 ;\n",
    "        } \n",
    "    }\n",
    "\n",
    "    ?obs_ent a sosa:Observation ;\n",
    "            sosa:hasSimpleResult ?obs_result ; \n",
    "            sosa:resultTime ?obs_time ;\n",
    "            sosa:hasFeatureOfInterest ?foi_ent ;\n",
    "            sosa:observedProperty ?obs_prop_ent .\n",
    "    ?obs_prop_ent a sosa:ObservableProperty ;\n",
    "        rdfs:label <observable attribute e.g. CO> .\n",
    "\n",
    "    FILTER (YEAR(?obs_time) = <year> && MONTH(?obs_time) = <month>)\n",
    "    FILTER (?obs_result > <threshold value>)\n",
    "}\n",
    "\n",
    "} \n",
    "\n",
    "<Natural Language>: List all observations where the ozone value was above 40 during summer 2020.\n",
    "\n",
    "\"\"\"\n",
    "response = get_completion(prompt)\n",
    "print(response)"
   ]
  },
  {
   "cell_type": "code",
   "execution_count": 24,
   "id": "6ccf624a-3fca-4da9-9469-45bf9076a874",
   "metadata": {},
   "outputs": [
    {
     "data": {
      "text/plain": [
       "' \\nPREFIX sosa: <http://www.w3.org/ns/sosa/>\\nPREFIX geo: <http://www.opengis.net/ont/geosparql#> \\nPREFIX gadm: <http://example.com/ontologies/gadm#>\\n\\nSELECT ?obs_result ?obs_time ?foi_ent\\nWHERE {\\n    {\\n        SELECT ?foi_ent\\n        WHERE {\\n            ?foi_ent a sosa:FeatureOfInterest ;\\n                geo:intersects ?gadm_ent .\\n            ?gadm_ent a gadm:AdministrativeUnit ;\\n                gadm:hasName <location name> ;\\n                gadm:hasNationalLevel 3 ;\\n        } \\n    }\\n\\n    ?obs_ent a sosa:Observation ;\\n            sosa:hasSimpleResult ?obs_result ; \\n            sosa:resultTime ?obs_time ;\\n            sosa:hasFeatureOfInterest ?foi_ent ;\\n            sosa:observedProperty ?obs_prop_ent .\\n    ?obs_prop_ent a sosa:ObservableProperty ;\\n        rdfs:label \"ozone\" .\\n\\n    FILTER (YEAR(?obs_time) = 2020 && MONTH(?obs_time) >= 6 && MONTH(?obs_time) <= 8)\\n    FILTER (?obs_result > 40)\\n}'"
      ]
     },
     "execution_count": 24,
     "metadata": {},
     "output_type": "execute_result"
    }
   ],
   "source": [
    "response[15:]"
   ]
  },
  {
   "cell_type": "code",
   "execution_count": 26,
   "id": "1a07dd1e-211f-43e1-9a1f-05ad1a812665",
   "metadata": {},
   "outputs": [],
   "source": [
    "query = \"\"\"\n",
    "PREFIX sosa: <http://www.w3.org/ns/sosa/>\n",
    "PREFIX geo: <http://www.opengis.net/ont/geosparql#> \n",
    "PREFIX gadm: <http://example.com/ontologies/gadm#>\n",
    "PREFIX rdfs: <http://www.w3.org/2000/01/rdf-schema#>\n",
    "\n",
    "# Aggregating option should be MIN/MAX/AVG\n",
    "SELECT (AVG(?obs_result) AS ?avg_obs_result) \n",
    "WHERE {\n",
    "    {\n",
    "        SELECT ?foi_ent\n",
    "        WHERE {\n",
    "            ?foi_ent a sosa:FeatureOfInterest ;\n",
    "                geo:intersects ?gadm_ent .\n",
    "            ?gadm_ent a gadm:AdministrativeUnit ;\n",
    "                # gadm name is variable\n",
    "                gadm:hasName 'Linz' ;\n",
    "                # how to handle national level? Default 3 if possible?\n",
    "                # aggregate by national level of more than 1 is available?\n",
    "                gadm:hasNationalLevel 3 ;\n",
    "        } \n",
    "    }\n",
    "\n",
    "    ?obs_ent a sosa:Observation ;\n",
    "            sosa:hasSimpleResult ?obs_result ; \n",
    "            sosa:resultTime ?obs_time ;\n",
    "            sosa:hasFeatureOfInterest ?foi_ent ;\n",
    "            sosa:observedProperty ?obs_prop_ent .\n",
    "    ?obs_prop_ent a sosa:ObservableProperty ;\n",
    "        # observable property is variable \n",
    "        rdfs:label 'CO' .\n",
    "\n",
    "    # Filtering should be possible for a whole year, a year and a month or a specific time range\n",
    "    # Possibility to filter by season? \n",
    "    FILTER (YEAR(?obs_time) = 2020 && MONTH(?obs_time) = 1)\n",
    "} \n",
    "\"\"\""
   ]
  },
  {
   "cell_type": "code",
   "execution_count": 27,
   "id": "edee17db",
   "metadata": {},
   "outputs": [
    {
     "name": "stdout",
     "output_type": "stream",
     "text": [
      "(rdflib.term.Literal('357.04685883870985', datatype=rdflib.term.URIRef('http://www.w3.org/2001/XMLSchema#double')),)\n"
     ]
    }
   ],
   "source": [
    "for row in graph.query(query):\n",
    "    print(row)"
   ]
  },
  {
   "cell_type": "code",
   "execution_count": null,
   "id": "b24039ce-db13-4dcf-9a56-cb4641c60ea6",
   "metadata": {},
   "outputs": [],
   "source": []
  }
 ],
 "metadata": {
  "kernelspec": {
   "display_name": "aqqa",
   "language": "python",
   "name": "aqqa"
  },
  "language_info": {
   "codemirror_mode": {
    "name": "ipython",
    "version": 3
   },
   "file_extension": ".py",
   "mimetype": "text/x-python",
   "name": "python",
   "nbconvert_exporter": "python",
   "pygments_lexer": "ipython3",
   "version": "3.8.17"
  }
 },
 "nbformat": 4,
 "nbformat_minor": 5
}
