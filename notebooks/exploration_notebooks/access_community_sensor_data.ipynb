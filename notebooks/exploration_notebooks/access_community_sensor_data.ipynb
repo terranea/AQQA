{
 "cells": [
  {
   "cell_type": "code",
   "execution_count": 3,
   "id": "b15927a2-3dc8-4b8a-8987-9fdca6fbb3ca",
   "metadata": {},
   "outputs": [],
   "source": [
    "import pandas as pd\n",
    "import matplotlib.pyplot as plt\n",
    "import requests\n",
    "import json\n",
    "import calendar\n",
    "import concurrent.futures\n",
    "import json"
   ]
  },
  {
   "cell_type": "code",
   "execution_count": null,
   "id": "2e7060dc-0f02-49a1-8249-03498605b7d3",
   "metadata": {},
   "outputs": [],
   "source": []
  },
  {
   "cell_type": "markdown",
   "id": "30781297-55bb-4fab-8bdd-69557ffc9fa1",
   "metadata": {},
   "source": [
    "### Extract sensor ids of interest"
   ]
  },
  {
   "cell_type": "code",
   "execution_count": 2,
   "id": "c46c8d7a-ab2b-4cfa-b1ff-797bcd1bf739",
   "metadata": {},
   "outputs": [],
   "source": [
    "response = requests.get(\"https://data.sensor.community/airrohr/v1/filter/country=DE,AT&type=SDS011\")\n",
    "sensors_dict = json.loads(response.content.decode('utf-8'))"
   ]
  },
  {
   "cell_type": "code",
   "execution_count": 4,
   "id": "3ce99e08-69c3-4bf2-85bf-1224946a0829",
   "metadata": {},
   "outputs": [],
   "source": [
    "sensors_of_interest = [{\"sensor_id\": sensor_measurement[\"sensor\"][\"id\"], \n",
    "                        \"lon\": sensor_measurement[\"location\"][\"longitude\"], \n",
    "                        \"lat\": sensor_measurement[\"location\"][\"latitude\"]} for sensor_measurement in sensors_dict]\n",
    "sensors_df = pd.DataFrame(sensors_of_interest)"
   ]
  },
  {
   "cell_type": "code",
   "execution_count": 5,
   "id": "f438c6d1-b9a8-4b54-9305-e6e050456419",
   "metadata": {},
   "outputs": [],
   "source": [
    "sensors_df.to_csv(\"/mnt/data/processed/sensor_community_ids_de_at_sds011.csv\")\n",
    "# clipping to aoi is done in QGIS"
   ]
  },
  {
   "cell_type": "code",
   "execution_count": null,
   "id": "3a85c854-db42-4a9b-baae-8c3436936a0f",
   "metadata": {},
   "outputs": [],
   "source": []
  },
  {
   "cell_type": "markdown",
   "id": "6a1bb06a-ef41-474c-8732-aa4f4f8b4b53",
   "metadata": {},
   "source": [
    "### Extracting archive values for sensors of interest"
   ]
  },
  {
   "cell_type": "code",
   "execution_count": 4,
   "id": "632406a1-eb4c-4f79-b743-72ac454b295f",
   "metadata": {},
   "outputs": [],
   "source": [
    "def generate_urls(year: int, sensor_id: int, sensor_type: str = \"sds011\"):\n",
    "    urls = []\n",
    "    suffix = \"csv\" if year in [2021, 2022] else \"csv.gz\"\n",
    "    for month in range(1, 13):\n",
    "        days_in_month = calendar.monthrange(year, month)[1]\n",
    "        for day in range(1, days_in_month + 1):\n",
    "            formatted_date = f\"{year}-{month:02d}-{day:02d}\"\n",
    "            url = f\"http://archive.sensor.community/{year}/{formatted_date}/{formatted_date}_{sensor_type}_sensor_{sensor_id}.{suffix}\"\n",
    "            urls.append(url)\n",
    "    return urls\n",
    "\n",
    "def process_sensor_data(url, sid):\n",
    "    try:\n",
    "        df = pd.read_csv(url, sep=\";\")\n",
    "        lat = df.loc[0, \"lat\"]\n",
    "        lon = df.loc[0, \"lon\"]\n",
    "        p1_value = df[\"P1\"].mean()\n",
    "        p2_value = df[\"P2\"].mean()\n",
    "        date = url.split(\"/\")[-2]\n",
    "        return (date, p1_value, p2_value, lon, lat)\n",
    "    except Exception as e:\n",
    "        return None"
   ]
  },
  {
   "cell_type": "code",
   "execution_count": 5,
   "id": "46f29b9e-4e42-436a-a3af-e207461fb02e",
   "metadata": {},
   "outputs": [],
   "source": [
    "sensors_of_interest_df  = pd.read_csv(\"/mnt/data/processed/Sensor_Community/sensor_community_ids_aoi_sds011.csv\")\n",
    "sensors_of_interest_sample_df = sensors_of_interest_df.sample(1, random_state=0)"
   ]
  },
  {
   "cell_type": "code",
   "execution_count": 6,
   "id": "5129665c-6756-43ee-8e5e-1c667c957162",
   "metadata": {},
   "outputs": [],
   "source": [
    "# Create a GeoJSON structure\n",
    "geojson_data = {\n",
    "    \"type\": \"FeatureCollection\",\n",
    "    \"features\": []\n",
    "}\n",
    "\n",
    "for i, item in sensors_of_interest_sample_df.iterrows():\n",
    "    sid = int(item[\"sensor_id\"])\n",
    "    url_list = generate_urls(2022, sid)\n",
    "    feature = {\n",
    "        \"type\": \"Feature\",\n",
    "        \"geometry\": {\n",
    "            \"type\": \"Point\",\n",
    "            \"coordinates\": []\n",
    "        },\n",
    "        \"properties\": {\n",
    "            \"sensor_id\": sid,\n",
    "            \"values\": []\n",
    "        }\n",
    "    }\n",
    "\n",
    "    for url in url_list:\n",
    "        result = process_sensor_data(url, sid)\n",
    "        if result is not None:\n",
    "            date, p1_value, p2_value, lon, lat = result\n",
    "            feature[\"properties\"][\"values\"].append((date, p1_value, p2_value))\n",
    "            feature[\"geometry\"][\"coordinates\"] = [lon, lat]\n",
    "\n",
    "    geojson_data[\"features\"].append(feature)\n",
    "\n",
    "# Convert the GeoJSON data to a JSON string\n",
    "geojson_string = json.dumps(geojson_data, indent=2)"
   ]
  },
  {
   "cell_type": "code",
   "execution_count": 9,
   "id": "3cc7ccb2-1fe5-4fd6-ab23-b6fef727842e",
   "metadata": {},
   "outputs": [],
   "source": [
    "# You can save the GeoJSON string to a file or use it as needed\n",
    "with open(\"/mnt/data/processed/Sensor_Community/sensor_sample_values.geojson\", \"w\") as geojson_file:\n",
    "    geojson_file.write(geojson_string)"
   ]
  },
  {
   "cell_type": "code",
   "execution_count": null,
   "id": "b019ef33-e59e-44b3-8466-6c0081a6cbcb",
   "metadata": {},
   "outputs": [],
   "source": []
  },
  {
   "cell_type": "code",
   "execution_count": null,
   "id": "3c6e443d-8606-4592-ba22-9de345b5a1f8",
   "metadata": {},
   "outputs": [],
   "source": []
  }
 ],
 "metadata": {
  "kernelspec": {
   "display_name": "aqqa",
   "language": "python",
   "name": "aqqa"
  },
  "language_info": {
   "codemirror_mode": {
    "name": "ipython",
    "version": 3
   },
   "file_extension": ".py",
   "mimetype": "text/x-python",
   "name": "python",
   "nbconvert_exporter": "python",
   "pygments_lexer": "ipython3",
   "version": "3.8.17"
  }
 },
 "nbformat": 4,
 "nbformat_minor": 5
}
