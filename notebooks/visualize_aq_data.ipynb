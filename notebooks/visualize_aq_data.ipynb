{
 "cells": [
  {
   "cell_type": "code",
   "execution_count": 38,
   "metadata": {
    "tags": []
   },
   "outputs": [],
   "source": [
    "import cdsapi\n",
    "import pandas as pd\n",
    "from netCDF4 import Dataset\n",
    "import numpy as np\n",
    "import matplotlib.pyplot as plt\n",
    "from mpl_toolkits.basemap import Basemap\n",
    "import PIL"
   ]
  },
  {
   "cell_type": "code",
   "execution_count": 21,
   "metadata": {
    "tags": []
   },
   "outputs": [
    {
     "name": "stdout",
     "output_type": "stream",
     "text": [
      "<class 'netCDF4._netCDF4.Dataset'>\n",
      "dict_keys(['time', 'lon', 'lat', 'pm2p5'])\n"
     ]
    }
   ],
   "source": [
    "path_to_file = \"../data/download/cams.eaq.vra.ENSa.pm2p5.l0.2020-08.nc\"\n",
    "data = Dataset(path_to_file, mode=\"r\")\n",
    "print(type(data))\n",
    "print(data.variables.keys())"
   ]
  },
  {
   "cell_type": "code",
   "execution_count": 22,
   "metadata": {
    "tags": []
   },
   "outputs": [],
   "source": [
    "lats = data.variables['lat'][:]  \n",
    "longs = data.variables['lon'][:]\n",
    "time = data.variables['time'][:]\n",
    "tave = data.variables['pm2p5'][:]"
   ]
  },
  {
   "cell_type": "code",
   "execution_count": 35,
   "metadata": {
    "tags": []
   },
   "outputs": [
    {
     "data": {
      "text/plain": [
       "129.5625"
      ]
     },
     "execution_count": 35,
     "metadata": {},
     "output_type": "execute_result"
    }
   ],
   "source": [
    "max(tave[4].flatten())"
   ]
  },
  {
   "cell_type": "code",
   "execution_count": null,
   "metadata": {},
   "outputs": [],
   "source": []
  },
  {
   "cell_type": "code",
   "execution_count": 23,
   "metadata": {
    "tags": []
   },
   "outputs": [],
   "source": [
    "mp = Basemap(projection='merc',\n",
    "             llcrnrlon=-25.0,\n",
    "             llcrnrlat=35.0,\n",
    "             urcrnrlon=45.0,\n",
    "             urcrnrlat=70.0,\n",
    "             resolution='i')"
   ]
  },
  {
   "cell_type": "code",
   "execution_count": 37,
   "metadata": {
    "tags": []
   },
   "outputs": [
    {
     "data": {
      "text/plain": [
       "<Figure size 600x800 with 0 Axes>"
      ]
     },
     "metadata": {},
     "output_type": "display_data"
    }
   ],
   "source": [
    "# this will create 365 images in the path given \n",
    "# please set the path before executing \n",
    "lon, lat = np.meshgrid(longs,lats)\n",
    "x,y = mp(lon,lat)\n",
    "plt.figure(figsize=(6,8))\n",
    "\n",
    "# loop for all the days \n",
    "hours = np.arange(0,50)  # for considering all days of the year\n",
    "\n",
    "for i in hours:\n",
    "    c_scheme = mp.pcolor(x,y,np.squeeze(tave[i,:,:]),cmap = 'jet')\n",
    "    mp.drawcoastlines()\n",
    "    mp.drawstates()\n",
    "    mp.drawcountries()\n",
    "\n",
    "    cbar = mp.colorbar(c_scheme,location='right',pad = '10%')\n",
    "    hour = i+1\n",
    "\n",
    "    plt.title('Average P2.5 value for the hour ' + str(hour) +  ' of year August year 2020')\n",
    "    plt.clim(0,50)\n",
    "    \n",
    "    plt.savefig(f'../data/figures/{str(hour)}.jpg')\n",
    "    plt.clf()"
   ]
  },
  {
   "cell_type": "code",
   "execution_count": 41,
   "metadata": {
    "tags": []
   },
   "outputs": [],
   "source": [
    "image_frames = [] # creating a empty list to be appended later on\n",
    "hours = np.arange(1,len(tave))\n",
    "\n",
    "for k in range(1, 51):\n",
    "    new_fram = PIL.Image.open(f'../data/figures/{str(k)}.jpg') \n",
    "    image_frames.append(new_fram)\n",
    "\n",
    "image_frames[0].save('PM25_europe_2022_august_timelapse.gif',format='GIF',\n",
    "                    append_images = image_frames[1: ],\n",
    "                    save_all = True, duration = 100,\n",
    "                    loop = 0)"
   ]
  },
  {
   "cell_type": "code",
   "execution_count": null,
   "metadata": {},
   "outputs": [],
   "source": []
  }
 ],
 "metadata": {
  "kernelspec": {
   "display_name": "ai4cop",
   "language": "python",
   "name": "ai4cop"
  },
  "language_info": {
   "codemirror_mode": {
    "name": "ipython",
    "version": 3
   },
   "file_extension": ".py",
   "mimetype": "text/x-python",
   "name": "python",
   "nbconvert_exporter": "python",
   "pygments_lexer": "ipython3",
   "version": "3.8.17"
  }
 },
 "nbformat": 4,
 "nbformat_minor": 4
}
