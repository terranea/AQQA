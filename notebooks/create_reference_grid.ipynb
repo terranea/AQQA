{
 "cells": [
  {
   "cell_type": "code",
   "execution_count": 57,
   "id": "0bb32f6e-ddac-45c4-bd80-57469788bfdd",
   "metadata": {},
   "outputs": [
    {
     "name": "stdout",
     "output_type": "stream",
     "text": [
      "The autoreload extension is already loaded. To reload it, use:\n",
      "  %reload_ext autoreload\n"
     ]
    }
   ],
   "source": [
    "%load_ext autoreload\n",
    "%autoreload 2"
   ]
  },
  {
   "cell_type": "code",
   "execution_count": 58,
   "id": "7aad2cda-2386-4bf9-a354-1c99569ddbac",
   "metadata": {},
   "outputs": [],
   "source": [
    "import xarray as xr\n",
    "from shapely.geometry import Polygon\n",
    "import geojson\n",
    "import os\n",
    "os.chdir(\"/workspaces/aqqa-kg-creation-dev/\")\n",
    "from src.utils import clip_netcdf_to_bb"
   ]
  },
  {
   "cell_type": "code",
   "execution_count": 59,
   "id": "005f515d-db01-40ef-8973-de7e16915822",
   "metadata": {},
   "outputs": [],
   "source": [
    "path_to_netcdf = \"/mnt/data/raw/cams_euro_aq_reanalysis/2020/download_2020_01_all_variables/cams.eaq.vra.ENSa.co.l0.2020-01.nc\"\n",
    "ds = xr.open_dataset(path_to_netcdf)"
   ]
  },
  {
   "cell_type": "code",
   "execution_count": 60,
   "id": "1ea1ed09-b4a1-448b-880d-2276805dcd2c",
   "metadata": {},
   "outputs": [],
   "source": [
    "bounding_box = [45.82, 50.65, 8.95, 17.22]\n",
    "ds = clip_netcdf_to_bb(ds, bounding_box)"
   ]
  },
  {
   "cell_type": "code",
   "execution_count": 61,
   "id": "ceb49904-4a0e-4bc8-9cf4-d2177c7f8630",
   "metadata": {},
   "outputs": [],
   "source": [
    "# Get the raster data and corresponding coordinates\n",
    "data = ds.co.values\n",
    "lon = ds.lon.values\n",
    "lat = ds.lat.values"
   ]
  },
  {
   "cell_type": "code",
   "execution_count": 62,
   "id": "e0e2c348-68aa-4887-98fc-14baec0accbb",
   "metadata": {},
   "outputs": [],
   "source": [
    "# Calculate the resolution of the grid cells\n",
    "lon_resolution = lon[1] - lon[0]\n",
    "lat_resolution = lat[1] - lat[0]\n",
    "\n",
    "# Create empty lists to store polygons and values\n",
    "index_polygon_dic = {}"
   ]
  },
  {
   "cell_type": "code",
   "execution_count": 63,
   "id": "41aa0efa-636f-449f-a655-0f7cdf53b4dd",
   "metadata": {},
   "outputs": [],
   "source": [
    "# Iterate through each cell in the raster data\n",
    "for row in range(len(lat)):\n",
    "    for col in range(len(lon)):\n",
    "\n",
    "        # Define the vertices of the polygon for the current cell\n",
    "        lon_left = lon[col]\n",
    "        lon_right = lon[col] + lon_resolution\n",
    "        lat_bottom = lat[row]\n",
    "        lat_top = lat[row] + lat_resolution\n",
    "\n",
    "        # Create the polygon for the current cell\n",
    "        polygon = Polygon([(lon_left, lat_bottom), (lon_right, lat_bottom),\n",
    "                           (lon_right, lat_top), (lon_left, lat_top)])\n",
    "\n",
    "        # Append the polygon and its value to the respective lists\n",
    "        index_polygon_dic[(row, col)] = polygon"
   ]
  },
  {
   "cell_type": "code",
   "execution_count": 64,
   "id": "c5b3a033-a90b-4263-83a4-93c1dc64dd49",
   "metadata": {},
   "outputs": [
    {
     "ename": "AttributeError",
     "evalue": "'str' object has no attribute '__geo_interface__'",
     "output_type": "error",
     "traceback": [
      "\u001b[0;31m---------------------------------------------------------------------------\u001b[0m",
      "\u001b[0;31mAttributeError\u001b[0m                            Traceback (most recent call last)",
      "Cell \u001b[0;32mIn[64], line 4\u001b[0m\n\u001b[1;32m      2\u001b[0m features \u001b[38;5;241m=\u001b[39m []\n\u001b[1;32m      3\u001b[0m \u001b[38;5;28;01mfor\u001b[39;00m index, geometry \u001b[38;5;129;01min\u001b[39;00m index_polygon_dic\u001b[38;5;241m.\u001b[39mitems():\n\u001b[0;32m----> 4\u001b[0m     feature \u001b[38;5;241m=\u001b[39m geojson\u001b[38;5;241m.\u001b[39mFeature(geometry\u001b[38;5;241m=\u001b[39m\u001b[43mgeometry\u001b[49m\u001b[38;5;241;43m.\u001b[39;49m\u001b[43m__geo_interface__\u001b[49m, properties\u001b[38;5;241m=\u001b[39m{\u001b[38;5;124m'\u001b[39m\u001b[38;5;124mindex\u001b[39m\u001b[38;5;124m'\u001b[39m: index})\n\u001b[1;32m      5\u001b[0m     features\u001b[38;5;241m.\u001b[39mappend(feature)\n\u001b[1;32m      7\u001b[0m \u001b[38;5;66;03m# Create a FeatureCollection from the list of features\u001b[39;00m\n",
      "\u001b[0;31mAttributeError\u001b[0m: 'str' object has no attribute '__geo_interface__'"
     ]
    }
   ],
   "source": [
    "# save grid shapes as geosjaon\n",
    "features = []\n",
    "for index, geometry in index_polygon_dic.items():\n",
    "    feature = geojson.Feature(geometry=geometry.__geo_interface__, properties={'index': index})\n",
    "    features.append(feature)\n",
    "\n",
    "# Create a FeatureCollection from the list of features\n",
    "feature_collection = geojson.FeatureCollection(features)\n",
    "\n",
    "# Export the FeatureCollection to a GeoJSON file\n",
    "# Replace 'output_file.geojson' with the desired output file path\n",
    "with open('/mnt/data/processed/ref_raster.geojson', 'w') as f:\n",
    "    geojson.dump(feature_collection, f)"
   ]
  },
  {
   "cell_type": "code",
   "execution_count": null,
   "id": "ffaee740-35db-48d9-a517-c2ee79845f9b",
   "metadata": {},
   "outputs": [],
   "source": []
  },
  {
   "cell_type": "code",
   "execution_count": null,
   "id": "1f8afcde-adf4-4e9b-89e4-8dea3feb033a",
   "metadata": {},
   "outputs": [],
   "source": []
  }
 ],
 "metadata": {
  "kernelspec": {
   "display_name": "aqqa",
   "language": "python",
   "name": "aqqa"
  },
  "language_info": {
   "codemirror_mode": {
    "name": "ipython",
    "version": 3
   },
   "file_extension": ".py",
   "mimetype": "text/x-python",
   "name": "python",
   "nbconvert_exporter": "python",
   "pygments_lexer": "ipython3",
   "version": "3.8.17"
  }
 },
 "nbformat": 4,
 "nbformat_minor": 5
}
